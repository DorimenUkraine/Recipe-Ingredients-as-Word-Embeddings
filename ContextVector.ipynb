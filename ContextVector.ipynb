{
 "cells": [
  {
   "cell_type": "code",
   "execution_count": 46,
   "metadata": {},
   "outputs": [],
   "source": [
    "from __future__ import print_function\n",
    "import pandas as pd\n",
    "# for plotting\n",
    "import matplotlib.pyplot as plt\n",
    "import warnings\n",
    "warnings.filterwarnings('ignore')\n",
    "import numpy as np\n",
    "pd.pandas.set_option('display.max_columns', None)\n",
    "#pip install --upgrade gensim\n",
    "import json\n",
    "import operator\n",
    "import collections\n",
    "import re\n",
    "import numpy as np\n",
    "import pandas as pd\n",
    "import nltk\n",
    "from gensim.models import word2vec\n",
    "from sklearn.manifold import TSNE\n",
    "import matplotlib.pyplot as plt\n",
    "import matplotlib.patches as mpatches\n",
    "import seaborn as sns\n",
    "%matplotlib inline"
   ]
  },
  {
   "cell_type": "markdown",
   "metadata": {},
   "source": [
    "#  Ingredients"
   ]
  },
  {
   "cell_type": "code",
   "execution_count": 47,
   "metadata": {},
   "outputs": [],
   "source": [
    "train_dataset = json.load(open('train.json','r'))\n",
    "test_dataset = json.load(open('test.json','r'))"
   ]
  },
  {
   "cell_type": "code",
   "execution_count": 48,
   "metadata": {},
   "outputs": [
    {
     "data": {
      "text/plain": [
       "{'id': 45423,\n",
       " 'cuisine': 'italian',\n",
       " 'ingredients': ['(    oz.) tomato sauce',\n",
       "  'ground veal',\n",
       "  'sliced mushrooms',\n",
       "  'italian seasoning mix',\n",
       "  'finely chopped onion',\n",
       "  'dry bread crumbs',\n",
       "  'spaghetti',\n",
       "  'beef',\n",
       "  'diced tomatoes',\n",
       "  'fresh basil leaves',\n",
       "  'parmesan cheese',\n",
       "  'large eggs',\n",
       "  'fat skimmed chicken broth']}"
      ]
     },
     "execution_count": 48,
     "metadata": {},
     "output_type": "execute_result"
    }
   ],
   "source": [
    "train_dataset[285]"
   ]
  },
  {
   "cell_type": "code",
   "execution_count": 49,
   "metadata": {},
   "outputs": [
    {
     "data": {
      "text/plain": [
       "['(    oz.) tomato sauce',\n",
       " 'ground veal',\n",
       " 'sliced mushrooms',\n",
       " 'italian seasoning mix',\n",
       " 'finely chopped onion',\n",
       " 'dry bread crumbs',\n",
       " 'spaghetti',\n",
       " 'beef',\n",
       " 'diced tomatoes',\n",
       " 'fresh basil leaves',\n",
       " 'parmesan cheese',\n",
       " 'large eggs',\n",
       " 'fat skimmed chicken broth']"
      ]
     },
     "execution_count": 49,
     "metadata": {},
     "output_type": "execute_result"
    }
   ],
   "source": [
    "train_dataset[285]['ingredients']"
   ]
  },
  {
   "cell_type": "code",
   "execution_count": 50,
   "metadata": {},
   "outputs": [],
   "source": [
    "ingredients = list()\n",
    "\n",
    "for recipe in train_dataset:\n",
    "    for ingredient in recipe[u'ingredients']:\n",
    "        ingredients.append(ingredient.strip())\n",
    "\n",
    "cuisines = list()\n",
    "for recipe in train_dataset:\n",
    "    cuisines.append(recipe[u'cuisine'].strip())"
   ]
  },
  {
   "cell_type": "code",
   "execution_count": 51,
   "metadata": {},
   "outputs": [
    {
     "name": "stdout",
     "output_type": "stream",
     "text": [
      "Total Cusines:  39774\n"
     ]
    }
   ],
   "source": [
    "print(\"Total Cusines: \", len(cuisines))"
   ]
  },
  {
   "cell_type": "code",
   "execution_count": 52,
   "metadata": {},
   "outputs": [
    {
     "name": "stdout",
     "output_type": "stream",
     "text": [
      "Total Ingredients:  428275\n"
     ]
    }
   ],
   "source": [
    "print(\"Total Ingredients: \", len(ingredients))"
   ]
  },
  {
   "cell_type": "code",
   "execution_count": 53,
   "metadata": {},
   "outputs": [
    {
     "data": {
      "text/plain": [
       "'olive oil'"
      ]
     },
     "execution_count": 53,
     "metadata": {},
     "output_type": "execute_result"
    }
   ],
   "source": [
    "ingredients[91]"
   ]
  },
  {
   "cell_type": "code",
   "execution_count": 54,
   "metadata": {},
   "outputs": [
    {
     "name": "stdout",
     "output_type": "stream",
     "text": [
      "unique ingredients in the dataset:  6714\n"
     ]
    }
   ],
   "source": [
    "print('unique ingredients in the dataset: ',len(set(ingredients)))"
   ]
  },
  {
   "cell_type": "code",
   "execution_count": 55,
   "metadata": {},
   "outputs": [],
   "source": [
    "# using Counter to get frequencies \n",
    "ingredients_count = collections.Counter(ingredients)\n",
    "cuisines_count = collections.Counter(cuisines)"
   ]
  },
  {
   "cell_type": "code",
   "execution_count": 56,
   "metadata": {},
   "outputs": [
    {
     "data": {
      "text/plain": [
       "1738"
      ]
     },
     "execution_count": 56,
     "metadata": {},
     "output_type": "execute_result"
    }
   ],
   "source": [
    "ingredients_count['baking powder']"
   ]
  },
  {
   "cell_type": "code",
   "execution_count": 57,
   "metadata": {},
   "outputs": [
    {
     "data": {
      "text/plain": [
       "3003"
      ]
     },
     "execution_count": 57,
     "metadata": {},
     "output_type": "execute_result"
    }
   ],
   "source": [
    "cuisines_count['indian']"
   ]
  },
  {
   "cell_type": "code",
   "execution_count": 58,
   "metadata": {},
   "outputs": [
    {
     "data": {
      "text/plain": [
       "[('italian', 7838),\n",
       " ('mexican', 6438),\n",
       " ('southern_us', 4320),\n",
       " ('indian', 3003),\n",
       " ('chinese', 2673),\n",
       " ('french', 2646),\n",
       " ('cajun_creole', 1546),\n",
       " ('thai', 1539),\n",
       " ('japanese', 1423),\n",
       " ('greek', 1175)]"
      ]
     },
     "execution_count": 58,
     "metadata": {},
     "output_type": "execute_result"
    }
   ],
   "source": [
    "cuisines_count.most_common(10)"
   ]
  },
  {
   "cell_type": "markdown",
   "metadata": {},
   "source": [
    "print(np.mean(list(counts_cuis.values())))\n",
    "print(np.std(list(counts_cuis.values())))"
   ]
  },
  {
   "cell_type": "markdown",
   "metadata": {},
   "source": [
    "x_cu = [cu for cu, frq in counts_cuis.most_common()]\n",
    "y_frq = [frq for cu, frq in counts_cuis.most_common()]\n",
    "fbar = sns.barplot(x = x_cu, y = y_frq)\n",
    "for item in fbar.get_xticklabels():\n",
    "    item.set_rotation(90)"
   ]
  },
  {
   "cell_type": "markdown",
   "metadata": {},
   "source": [
    "symbols = list()\n",
    "\n",
    "for recipt in trainrecipts:\n",
    "    #print(recipt)\n",
    "    # I want ingredient remove \n",
    "    for ingredient in recipt['ingredients']:\n",
    "        if re.match(\"\\(|@|\\$\\?\", ingredient.lower()):\n",
    "            print(ingredient)\n",
    "            symbols.append(ingredient)\n",
    "len(symbols)\n",
    "counts_symbols = collections.Counter(symbols)\n",
    "counts_symbols.most_common(20)"
   ]
  },
  {
   "cell_type": "code",
   "execution_count": 59,
   "metadata": {},
   "outputs": [],
   "source": [
    "import inflect\n",
    "stemmer = inflect.engine()\n",
    "\n",
    "recipes_as_sentences_list = list()\n",
    "\n",
    "for recipe in train_dataset:\n",
    "    clean_recipe = list()\n",
    "    for ingredient in recipe['ingredients']:\n",
    "        ingredient = re.sub(r'[^a-zA-Z\\s]+', '', ingredient)\n",
    "        ingredient =  re.sub(r'\\(.*oz.\\)|large|medium|small|warm|plain|crushed|crumbles|ground|minced|||chopped|sliced','', ingredient)\n",
    "        if stemmer.singular_noun(ingredient) is not False:\n",
    "            ingredient = stemmer.singular_noun(ingredient)\n",
    "        words_in_ingredients = nltk.tag.pos_tag(ingredient.split())\n",
    "        words_in_ingredients=[word[0] for word in words_in_ingredients if word[1] in ('NN')]\n",
    "        ingredient = \" \".join(words_in_ingredients)\n",
    "        ingredient = ingredient.strip().lower()\n",
    "        clean_recipe.append(ingredient)\n",
    "    while(\"\" in clean_recipe) :\n",
    "        clean_recipe.remove(\"\")\n",
    "    recipes_as_sentences_list.append(clean_recipe)"
   ]
  },
  {
   "cell_type": "code",
   "execution_count": 60,
   "metadata": {},
   "outputs": [
    {
     "name": "stdout",
     "output_type": "stream",
     "text": [
      "['soy sauce', 'shrimp', 'brown sugar', 'onion', 'chicken stock', 'ginger root', 'boneless pork loin', 'rice wine', 'wonton wrapper']\n"
     ]
    },
    {
     "data": {
      "text/plain": [
       "{'id': 46629,\n",
       " 'cuisine': 'chinese',\n",
       " 'ingredients': ['light soy sauce',\n",
       "  'peeled shrimp',\n",
       "  'brown sugar',\n",
       "  'green onions',\n",
       "  'chicken stock',\n",
       "  'fresh ginger root',\n",
       "  'boneless pork loin',\n",
       "  'chinese rice wine',\n",
       "  'wonton wrappers']}"
      ]
     },
     "execution_count": 60,
     "metadata": {},
     "output_type": "execute_result"
    }
   ],
   "source": [
    "#print(len(recipes_as_sentences_list))\n",
    "print(recipes_as_sentences_list[12342])\n",
    "\n",
    "\"\"\"\n",
    "a = ['', 'pepper', 'salt', 'tomato', 'pepper', 'thyme', 'egg', 'tomato', 'corn meal', 'milk', 'oil']\n",
    "\n",
    "while(\"\" in a) : \n",
    "    a.remove(\"\") \n",
    "print(a)\n",
    "\"\"\"\n",
    "train_dataset[12342]"
   ]
  },
  {
   "cell_type": "markdown",
   "metadata": {},
   "source": [
    "#nltk.download('averaged_perceptron_tagger')\n",
    "a = nltk.tag.pos_tag(\"boneless chicken\".split())\n",
    "\n",
    "words=[ele[0] for ele in a if ele[1] in ('NN')]\n",
    "\" \".join(words)\n",
    "\n",
    "words_in_ingredients = nltk.tag.pos_tag(\"boneless chickens\".split())\n",
    "words_in_ingredients=[word[0] for word in words_in_ingredients if word[1] in ('NN')]\n",
    "ingredient = \" \".join(words_in_ingredients)\n",
    "ingredient\n",
    "\n",
    "\n",
    "words_in_ingredients = nltk.tag.pos_tag(\"boneless chicken\".split())\n",
    "words_in_ingredients=[word[0] for word in words_in_ingredients if word[1] in ('NN')]\n",
    "ingredient = \" \".join(words_in_ingredients)\n",
    "print(ingredient)\n",
    "\n",
    "words_in_ingredients = nltk.tag.pos_tag(\"Google\".split())\n",
    "print(words_in_ingredients)\n",
    "words_in_ingredients=[word[0] for word in words_in_ingredients if word[1] in ('NN')]\n",
    "ingredient = \" \".join(words_in_ingredients)\n",
    "print(ingredient)\n",
    "\n",
    "\n",
    "words_in_ingredients = nltk.tag.pos_tag(\"warm water\".split())\n",
    "print(words_in_ingredients)\n",
    "words_in_ingredients=[word[0] for word in words_in_ingredients if word[1] in ('NN')]\n",
    "ingredient = \" \".join(words_in_ingredients)\n",
    "print(ingredient)"
   ]
  },
  {
   "cell_type": "markdown",
   "metadata": {},
   "source": [
    "import nltk\n",
    "a = ['salts','oils', 'garlic cloves', 'shoes', 'cloves', 'boneless chickens', 'knives','spinach leaves']\n",
    "p = nltk.PorterStemmer()\n",
    "a = [p.stem(word) for word in a]\n",
    "print(a)\n",
    "\n",
    "ingredient = stemmer.singular_noun(\"cherry tomatoes\")\n",
    "print((ingredient))\n",
    "print(type(ingredient))"
   ]
  },
  {
   "cell_type": "code",
   "execution_count": 67,
   "metadata": {},
   "outputs": [],
   "source": [
    "num_features = 30    # Word vector dimensionality                      \n",
    "min_word_count = 3    # 50% of the corpus                    \n",
    "num_workers = 4       # Number of CPUs\n",
    "context = 10          # Context window size;                                                                                \n",
    "downsampling = 1e-3   # threshold for configuring which \n",
    "                    # higher-frequency words are randomly downsampled\n",
    "\n",
    "# Initialize and train the model \n",
    "model = word2vec.Word2Vec(recipes_as_sentences_list, workers=num_workers, \\\n",
    "            size=num_features, min_count = min_word_count, \\\n",
    "            window = context, sample = downsampling)\n",
    "\n",
    "# If you don't plan to train the model any further, calling \n",
    "# init_sims will make the model much more memory-efficient.\n",
    "#model.init_sims(replace=True)"
   ]
  },
  {
   "cell_type": "code",
   "execution_count": 68,
   "metadata": {},
   "outputs": [
    {
     "data": {
      "text/plain": [
       "[('half half', 0.8344869613647461),\n",
       " ('margarine', 0.8126591444015503),\n",
       " ('pie crust', 0.7757635712623596),\n",
       " ('biscuit', 0.768205463886261),\n",
       " ('cornbread mix', 0.7390078902244568),\n",
       " ('pastry dough', 0.7341731190681458),\n",
       " ('cherry pie filling', 0.7323823571205139),\n",
       " ('shortening', 0.7310898900032043),\n",
       " ('apple pie', 0.728115439414978),\n",
       " ('crust pie', 0.7261394262313843)]"
      ]
     },
     "execution_count": 68,
     "metadata": {},
     "output_type": "execute_result"
    }
   ],
   "source": [
    "model.most_similar(u'milk')"
   ]
  },
  {
   "cell_type": "code",
   "execution_count": 69,
   "metadata": {},
   "outputs": [],
   "source": [
    "#model.most_similar(\"falafel\")"
   ]
  },
  {
   "cell_type": "code",
   "execution_count": 70,
   "metadata": {},
   "outputs": [
    {
     "data": {
      "text/plain": [
       "0.91929847"
      ]
     },
     "execution_count": 70,
     "metadata": {},
     "output_type": "execute_result"
    }
   ],
   "source": [
    "model.similarity('ginger root', 'ginger')"
   ]
  },
  {
   "cell_type": "code",
   "execution_count": 20,
   "metadata": {},
   "outputs": [
    {
     "data": {
      "text/plain": [
       "0.8968209"
      ]
     },
     "execution_count": 20,
     "metadata": {},
     "output_type": "execute_result"
    }
   ],
   "source": [
    "model.similarity(\"sea salt\", \"kosher salt\")"
   ]
  },
  {
   "cell_type": "code",
   "execution_count": 21,
   "metadata": {},
   "outputs": [
    {
     "data": {
      "text/plain": [
       "-0.15784855"
      ]
     },
     "execution_count": 21,
     "metadata": {},
     "output_type": "execute_result"
    }
   ],
   "source": [
    "model.similarity(\"ginger\", \"milk\")"
   ]
  },
  {
   "cell_type": "code",
   "execution_count": 71,
   "metadata": {},
   "outputs": [
    {
     "name": "stdout",
     "output_type": "stream",
     "text": [
      "[0.8659956]\n"
     ]
    }
   ],
   "source": [
    "from sklearn.metrics.pairwise import cosine_similarity\n",
    "sea_salt = model.wv['sea salt']\n",
    "kosher_salt = model.wv['kosher salt']\n",
    "value = cosine_similarity([sea_salt], [kosher_salt])\n",
    "print(str(value[0]))"
   ]
  },
  {
   "cell_type": "code",
   "execution_count": 72,
   "metadata": {},
   "outputs": [],
   "source": [
    "def tsne_plot(model):\n",
    "    \"Creates and TSNE model and plots it\"\n",
    "    labels = []\n",
    "    tokens = []\n",
    "    i = 0\n",
    "    for word in model.wv.vocab:\n",
    "        tokens.append(model[word])\n",
    "        labels.append(word)\n",
    "        if i == 65:\n",
    "            break\n",
    "        i +=1\n",
    "    \n",
    "    tsne_model = TSNE(perplexity=40, n_components=2, init='pca', n_iter=2500, random_state=23)\n",
    "    new_values = tsne_model.fit_transform(tokens)\n",
    "\n",
    "    x = []\n",
    "    y = []\n",
    "    for value in new_values:\n",
    "        x.append(value[0])\n",
    "        y.append(value[1])\n",
    "        \n",
    "    plt.figure(figsize=(16, 16)) \n",
    "    for i in range(len(x)):\n",
    "        plt.scatter(x[i],y[i])\n",
    "        plt.annotate(labels[i],\n",
    "                     xy=(x[i], y[i]),\n",
    "                     xytext=(5, 2),\n",
    "                     textcoords='offset points',\n",
    "                     ha='right',\n",
    "                     va='bottom')\n",
    "    plt.show()"
   ]
  },
  {
   "cell_type": "code",
   "execution_count": 24,
   "metadata": {},
   "outputs": [
    {
     "data": {
      "image/png": "[encoded data removed]",
      "text/plain": [
       "<Figure size 1152x1152 with 1 Axes>"
      ]
     },
     "metadata": {
      "needs_background": "light"
     },
     "output_type": "display_data"
    }
   ],
   "source": [
    "tsne_plot(model)"
   ]
  },
  {
   "cell_type": "code",
   "execution_count": 25,
   "metadata": {},
   "outputs": [
    {
     "name": "stdout",
     "output_type": "stream",
     "text": [
      "(2513, 30)\n"
     ]
    }
   ],
   "source": [
    "print(model.wv.vectors.shape)\n",
    "vocab = model.wv.vocab"
   ]
  },
  {
   "cell_type": "code",
   "execution_count": 26,
   "metadata": {},
   "outputs": [
    {
     "name": "stdout",
     "output_type": "stream",
     "text": [
      "<class 'dict'>\n"
     ]
    },
    {
     "data": {
      "text/plain": [
       "dict_keys(['romaine lettuce', 'olive', 'grape tomato', 'garlic', 'pepper', 'onion', 'feta cheese', 'flour', 'salt', 'tomato', 'thyme', 'egg', 'corn meal', 'milk', 'oil', 'mayonaise', 'cooking oil', 'chili', 'chicken breast', 'powder', 'soy sauce', 'butter', 'chicken liver', 'water', 'wheat', 'shallot', 'cornflour', 'paste', 'lemon juice', 'chili powder', 'passata', 'cumin', 'boneless chicken skinless thigh', 'garam masala', 'cream', 'yogurt', 'bay leaf', 'sugar', 'ginger root', 'cinnamon', 'vanilla extract', 'ginger', 'shrimp', 'cilantro', 'jalapeno chili', 'leaf parsley', 'skirt steak', 'vinegar', 'sea salt', 'chorizo sausage', 'pistachio nut', 'almond extract', 'cranberry', 'pineapple', 'pork', 'poblano pepper', 'corn tortilla', 'cheddar cheese', 'iceberg lettuce', 'lime', 'cilantro fresh', 'basil', 'kosher salt', 'pimento', 'oregano', 'cheese', 'provolone cheese', 'canola oil', 'mushroom', 'sausage', 'sodium soy sauce', 'mustard', 'bean', 'sesame oil', 'scallion', 'wine', 'turkey', 'pepper flake', 'corn starch', 'parsley leaf', 'walnut', 'trout fillet', 'clove', 'chipotle chile', 'coriander', 'plum tomato', 'avocado', 'lime juice', 'flank steak', 'parmesan cheese', 'sodium chicken broth', 'chive', 'bacon slice', 'gnocchi', 'cooking spray', 'tumeric', 'stock', 'naan', 'lentil', 'chili pepper', 'spinach', 'sweet potato', 'lemon curd', 'raspberry', 'seasoning', 'broilerfryer chicken', 'zesty dressing', 'fish sauce', 'bell', 'chicken broth', 'squash', 'chili sauce', 'broccolini', 'rice', 'pork loin', 'peanut', 'hoisin sauce', 'peanut butter', 'mint', 'thai basil', 'rice noodle', 'beansprout', 'roma tomato', 'lowfat mayonnaise', 'potato', 'spicy mustard', 'sesame seed', 'firm tofu', 'broccoli', 'orange bell', 'arrowroot powder', 'curry paste', 'marinara sauce', 'linguine', 'caper', 'lemon zest', 'lo mein noodle', 'oyster sauce', 'cabbage', 'herb', 'paprika', 'mango', 'chile pepper', 'sherry', 'chicken', 'bell pepper', 'egg roll wrapper', 'sweet sauce', 'molass', 'carrot', 'tortilla', 'breakfast sausage', 'boiling water', 'sauce', 'bacon', 'parsley', 'cajun', 'peanut oil', 'celery', 'onion powder', 'turnip', 'palm sugar', 'lime wedge', 'papaya', 'chile powder', 'tamarind paste', 'worcestershire sauce', 'pepper sauce', 'creole', 'bread slice', 'sage leaf', 'fivespice powder', 'chicken thigh', 'star anise', 'cream cheese', 'pea', 'tortilla chip', 'collard green', 'ham hock', 'chicken stock', 'apple cider', 'rib', 'brown sugar', 'hoagie roll', 'salami', 'giardiniera', 'mozzarella cheese', 'pepperoni', 'ice cube', 'club soda', 'rum', 'turbinado', 'enchilada sauce', 'picante sauce', 'lettuce', 'fillet', 'seed', 'curry powder', 'serrano chile', 'breast half', 'lettuce leaf', 'mandarin orange', 'orange liqueur', 'cake mix', 'fennel bulb', 'grapefruit juice', 'cornmeal', 'buttermilk', 'crab boil', 'bay seasoning', 'crawfish', 'sirloin', 'mirin', 'corn oil', 'glass noodle', 'sake', 'shiitake', 'grit', 'jack', 'mussel', 'soda', 'honey', 'lemon', 'pesto', 'bread crumb', 'curry', 'sodium beef broth', 'pickapeppa sauce', 'allspice', 'beef', 'matcha tea powder', 'coarse salt', 'fenugreek', 'dal', 'pizza crust', 'partskim mozzarella cheese', 'gold potato', 'leek', 'lowfat milk', 'coconut milk', 'peanut sauce', 'sparerib', 'tamari soy sauce', 'chicken leg', 'ghee', 'tomato paste', 'turmeric', 'rosemary', 'boneless pork loin', 'pappardelle', 'eggplant', 'jasmine rice', 'base', 'round steak', 'rice vinegar', 'vanilla', 'egg yolk', 'orange juice concentrate', 'pure', 'creme', 'maple syrup', 'gingersnap', 'nutmeg', 'serrano ham', 'manchego cheese', 'sourdough', 'burger bun', 'panko breadcrumb', 'sriracha', 'chickpea', 'flaxseed', 'tahini', 'cardamom', 'bread', 'sausage casing', 'penne pasta', 'saffron', 'harissa', 'couscou', 'cayenne', 'fat broth', 'fat', 'ice', 'espresso', 'asparagu', 'chuck', 'hamburger bun', 'okra pod', 'self flour', 'food colouring', 'madeira', 'foie gra', 'demiglace', 'sherry vinegar', 'persimmon', 'egg bread', 'fenugreek leaf', 'mustard seed', 'amchur', 'ramp', 'peppercorn', 'cinnamon stick', 'cardamom pod', 'coriander seed', 'asiago', 'wheat pasta', 'chestnut', 'milk ricotta cheese', 'coffee ice cream', 'mascarpone', 'semisweet chocolate', 'baby spinach leaf', 'barley', 'ham', 'starchy potato', 'sirloin tip roast', 'steak', 'shortening', 'caul fat', 'whipping cream', 'kahla', 'espresso powder', 'epazote', 'radish', 'hominy', 'tomatillo', 'pepita', 'basmati rice', 'cauliflower', 'blood orange', 'salt chicken broth', 'wine vinegar', 'tomato sauce', 'split', 'oil cooking spray', 'prawn', 'rice flour', 'lasagna noodle', 'ranch', 'boneless chop pork', 'chile paste', 'raisin', 'pearl barley', 'almond', 'chocolate bar', 'marshmallow', 'mustard powder', 'cod', 'margarine', 'mace', 'tea', 'orange peel', 'zest', 'currant', 'rum extract', 'noodle', 'baby', 'bean sauce', 'rice wine', 'quinoa', 'corn', 'broth', 'orange', 'duck', 'mint flake', 'penne rigate', 'hanout', 'lamb', 'reducedfat milk', 'cabbage leaf', 'chicken leg quarter', 'cucumber', 'longgrain rice', 'crusty bread', 'baby potato', 'piloncillo', 'chocolate morsel', 'cream whip', 'espresso granule', 'chocolate coffee bean', 'gelatin', 'pound cake', 'pinenut', 'zucchini', 'baby carrot', 'basil leaf', 'asparagus spear', 'arborio rice', 'crookneck squash', 'chipotle adobo', 'cilantro leaf', 'skinless chicken thigh', 'lime zest', 'cream mushroom soup', 'cream chicken soup', 'cheese blend', 'chunky salsa', 'taco mix', 'pineapple juice', 'dark rum', 'daikon', 'pork rib', 'goji berry', 'oyster', 'salsa', 'demerara sugar', 'fruit', 'pastry puff sheet', 'spice', 'parsnip', 'chili oil', 'cashew', 'thai curry paste', 'kecap mani', 'chicken tenderloin', 'style', 'cheddar cheese soup', 'jack cheese', 'leav spinach', 'tortellini', 'cherry tomato', 'granny smith apple', 'lard', 'pecorino romano cheese', 'fava bean', 'pasta sheet', 'spinach leaf', 'bonein chicken breast', 'chocolate instant pudding', 'graham cracker crumb', 'kielbasa', 'celery rib', 'capsicum', 'tofu', 'shortgrain rice', 'shiitake mushroom', 'gari', 'semolina', 'vine tomato', 'bittersweet chocolate', 'skim milk', 'food cake', 'cocoa powder', 'anise', 'zinfandel', 'orange blossom honey', 'calimyrna fig', 'wholemilk yogurt', 'beef stock', 'chuck roast', 'coleslaw', 'chili paste', 'kiwi', 'pear', 'queso', 'chard', 'veal cutlet', 'pasta', 'wakame', 'scallion green', 'wonton wrapper', 'nonstick spray', 'chicken bone', 'bell pepper slouse', 'crusty roll', 'coconut oil', 'almond flour', 'coconut amino', 'clam', 'boneless skinless breast half', 'rice wine vinegar', 'heart', 'coriander powder', 'bread round', 'udon', 'miso', 'button mushroom', 'jalapeno', 'broccoli rabe', 'parmigiano reggiano cheese', 'fontina', 'thai chile', 'piecrust', 'pasta sauce', 'partskim ricotta cheese', 'fettucine', 'chicken bouillon', 'veget', 'taco sauce', 'guacamole', 'salsa verde', 'condiment', 'pork shoulder roast', 'pistachio', 'chicken wing', 'drumstick', 'chile', 'adobo sauce', 'chipotle chile powder', 'cranberry sauce', 'beer', 'beef rib', 'miso paste', 'seaweed', 'dashi', 'dill', 'yoghurt', 'phyllo', 'kefalotyri', 'okra', 'cracker crumb', 'crab meat', 'savoy cabbage', 'boneless chicken thigh', 'potato starch', 'cream tartar', 'semisweet chocolate morsel', 'ricotta cheese', 'serrano', 'steelcut oat', 'hazelnut', 'hazelnut oil', 'sweet cherry', 'fire tomato', 'kidnei drain', 'wasabi paste', 'salmon', 'porcini mushroom', 'beef broth', 'cremini mushroom', 'horseradish', 'celery salt', 'shrimp crab boil', 'turnip green', 'butternut squash', 'apple', 'country ham', 'edamame bean', 'corn drain', 'bread flour', 'kalonji', 'yeast', 'wood ear mushroom', 'vegetable', 'taco', 'boneless skinless chicken breast', 'eau', 'leaf', 'cane sugar', 'salt pepper', 'pico gallo', 'slice', 'chorizo', 'dillweed', 'kale', 'boneless beef rib', 'guajillo', 'saffron thread', 'banana squash', 'pancake syrup', 'puff pastry', 'apple cider vinegar', 'bone chicken', 'skinless chicken breast', 'tarragon', 'kidney bean', 'orzo pasta', 'dri leav thyme', 'wasabi', 'baby arugula', 'tequila', 'mix', 'crust', 'half', 'corn syrup', 'superfine sugar', 'blackberry', 'whiskey', 'jerk season', 'pineapple preserve', 'chicken drumstick', 'pita', 'goat cheese', 'gingerroot', 'rib eye steak', 'bean paste', 'medjool date', 'trout', 'puree', 'tomato pure', 'romaine lettuce leaf', 'crema mexicana', 'chile sauce', 'queso fresco', 'rice paper', 'chile flake', 'boneless chicken breast', 'cashew nut', 'kasuri methi', 'mustard oil', 'ginger paste', 'tomato ketchup', 'pie', 'tostada shell', 'grouper', 'ricotta salata', 'pecorino cheese', 'padano', 'kaffir lime leaf', 'soba noodle', 'galangal', 'bamboo shoot', 'nut', 'bourbon whiskey', 'ketchup', 'rhubarb', 'liquid', 'sodium chicken stock', 'jeera', 'crema', 'salmon steak', 'jam', 'spring onion', 'range egg', 'jicama', 'water chestnut', 'dinner roll', 'cactus pad', 'fenugreek seed', 'cauliflower floweret', 'baby spinach', 'tuna steak', 'octopus', 'gouda', 'tuna', 'premium collect marinara wine sauc', 'crumb fresh', 'margarita salt', 'oz tomato sauce', 'veal', 'pack pumpkin', 'thyme leaf', 'grapeseed oil', 'cherry', 'straw mushroom', 'prosciutto', 'romano cheese', 'crabmeat', 'strawberry', 'pork loin chop', 'filet', 'coffee bean', 'pork shoulder', 'romain lettuc leav', 'russet potato', 'colby cheese', 'half half', 'vermouth', 'paneer cheese', 'boneless center cut pork chop', 'pork tenderloin', 'shellon shrimp', 'caramel sauce', 'boneless skinless chicken', 'thread', 'sodium tamari', 'sourdough baguette', 'szechwan peppercorn', 'rock sugar', 'leg lamb', 'ricotta', 'mung bean sprout', 'sesame paste', 'jaggery', 'coconut', 'spam', 'rice cake', 'tapioca starch', 'cider vinegar', 'salad', 'tuna fillet', 'polenta', 'cauliflower floret', 'crescent roll', 'sea scallop', 'grate lime peel', 'clam juice', 'tomato oil', 'roast peanut', 'bok choy', 'baguette', 'orange zest', 'fennel', 'onion top', 'peel', 'orange juice', 'masa harina', 'crme frache', 'duck breast half', 'mint leaf', 'vanilla lowfat yogurt', 'pesto sauce', 'arugula', 'vermicelli noodle', 'coconut sugar', 'plantain', 'egg noodle', 'beef shank', 'summer squash', 'ciabatta', 'juice', 'plum sauce', 'dough', 'coarse sea salt', 'brie cheese', 'boneless rib eye steak', 'vermicelli', 'bird chile', 'corn flour', 'ravioli', 'breadcrumb', 'meat bone', 'heart palm', 'coconut cream', 'seed meal', 'coconut flour', 'slaw mix', 'chunky peanut butter', 'pickle', 'hoagie bun', 'cottage cheese', 'radicchio', 'sausage link', 'tea bag', 'sprig', 'sage', 'kale leaf', 'chicken noodle soup', 'genoa salami', 'capicola', 'chocolate sauce', 'quail', 'caster', 'shiso', 'salad mix', 'dashi kombu', 'saltine', 'barbecue sauce', 'ice water', 'tip', 'artichoke', 'portabello mushroom', 'allspice berry', 'tomatillo salsa', 'chipotle', 'sandwich bread', 'tamarind pulp', 'louisiana sauce', 'konbu', 'bacon rasher', 'glutenfree tamari', 'shrimp peel devein', 'catfish', 'basil pesto sauce', 'aioli', 'mozzarella ball', 'pasilla pepper', 'corn chip', 'fettuccine pasta', 'poblano chile', 'vinaigrette', 'beet', 'caster sugar', 'spring roll wrapper', 'chicken finger', 'apricot preserve', 'ginger juice', 'lasagne', 'mayonnaise', 'milk cheese', 'champagne vinegar', 'tart cherry', 'porcini', 'sourdough loaf', 'duck fat', 'squab', 'confit', 'beef steak', 'biscuit', 'lump crab meat', 'seafood', 'applewood bacon', 'chicken cutlet', 'meat', 'wheat flour', 'wheat bran', 'lowfat buttermilk', 'soba', 'mustard green', 'orzo', 'veal chop', 'coarse kosher salt', 'masa', 'pasta water', 'tamarind', 'pork chop', 'rigatoni', 'grain rice', 'roll', 'cinnamon sugar', 'rice syrup', 'bosc pear', 'buckwheat noodle', 'curry leaf', 'parmesan', 'hass avocado', 'blueberry', 'peach', 'floret', 'thyme sprig', 'butter lettuce', 'edamame', 'ulek', 'coconut vinegar', 'egg roll wrap', 'penne', 'berry', 'fig', 'sprinkle', 'marjoram', 'crimini mushroom', 'beef bouillon granule', 'deli ham', 'tenderloin roast', 'beef consomme', 'gorgonzola', 'simple syrup', 'cachaca', 'tapioca flour', 'beef roast', 'lamb shank', 'lowsodium chicken broth', 'crumb', 'raisin bread', 'banana', 'chipotle salsa', 'buttermilk biscuit', 'apricot', 'pearl onion', 'malt vinegar', 'pork butt', 'chutney', 'breast', 'mint sprig', 'peasant bread', 'poultry', 'ziti', 'ginger ale', 'tandoori spice', 'methi', 'curd', 'stevia', 'liquid amino', 'brown lentil', 'bonein breast half', 'garnish', 'wheat berry', 'parsley sprig', 'polenta prepar', 'purpose flour', 'hash brown', 'candy', 'asafoetida powder', 'ravva', 'steamer', 'fish', 'asafetida', 'pancetta', 'wheat fettuccine', 'pasta shell', 'rib roast', 'bone skinless chicken thigh', 'seasoning mix', 'egg substitute', 'shiitake mushroom cap', 'beef brisket', 'mini chocolate chip', 'style yogurt', 'asadero', 'mild curry powder', 'beef stew', 'teriyaki sauce', 'glaze', 'chicken meat', 'waxy potato', 'bowtie pasta', 'seedless grape', 'country bread', 'leaf lettuce', 'rice vermicelli', 'pepper seasoning', 'tomato salsa', 'feta', 'nectarine', 'roast', 'prune', 'stir fry blend', 'piece', 'chip', 'wheat lasagna noodle', 'butter cracker', 'round sourdough bread', 'amaretto', 'burger', 'coffee', 'sea', 'tart', 'grappa', 'corn grit', 'beef tenderloin', 'marinade', 'rutabaga', 'lamb leg', 'wheat tortilla', 'soy milk', 'marmite', 'bagel', 'chicken bouillon granule', 'field pea', 'fino sherry', 'maggi', 'grain mustard', 'morel', 'snapper', 'cotija', 'muffin', 'chili bean', 'tenderloin', 'rotisserie chicken', 'cracker', 'broccoli floret', 'veggie', 'quatre pice', 'sweetener', 'oat', 'parmigianoreggiano cheese', 'snail', 'shrimp paste', 'grain rice mix', 'turkey leg', 'cornbread', 'onion soup', 'wheat bread', 'lamb chop', 'squid', 'seafood stock', 'apple juice', 'elbow macaroni', 'gravy', 'orange segment', 'scotch bonnet chile', 'serrano pepper', 'ladyfinger', 'chocolate', 'perilla', 'date', 'anise seed', 'homemade chicken stock', 'pastry cream', 'cognac', 'shortbread cookie', 'fromage blanc', 'tea powder', 'rye', 'wheel', 'cola drink', 'tahini paste', 'salad leaf', 'scallop', 'garden pea', 'runny honey', 'stone cornmeal', 'pork baby rib', 'jerk', 'bbq sauce', 'shell', 'reducedfat cheese', 'cornflake cereal', 'achiote paste', 'tilapia', 'poblano chili', 'vanilla sugar', 'lima bean', 'cilantro sprig', 'crusty sandwich roll', 'tilapia fillet', 'oyster mushroom', 'prosecco', 'bread dough', 'turkey broth', 'chinkiang vinegar', 'fresca', 'relish', 'slaw', 'fregola', 'mushroom cap', 'pinot grigio', 'chocolate candy bar', 'msg', 'gai lan', 'syrup', 'pigeon pea', 'sushi rice', 'paneer', 'gram flour', 'chaat masala', 'sauerkraut', 'boneless beef roast', 'boneless breast half', 'peach preserve', 'lamb loin chop', 'sesame', 'boneless pork shoulder', 'lemon rind', 'pasilla chile', 'mulato chile', 'truffle oil', 'xanthan gum', 'cake', 'biscuit mix', 'ahi', 'lotus root', 'taco shell', 'colby jack cheese', 'anjou pear', 'lamb stew meat', 'almond butter', 'chambord', 'champagne', 'apricot half', 'tomato juice', 'plum', 'pie dough', 'lemon wedge', 'porterhouse steak', 'tarragon leaf', 'gooseberry', 'vanilla wafer', 'lime rind', 'rotel tomato', 'iron steak', 'dill pickle', 'tripe', 'coffee granule', 'lowfat yogurt', 'baby portobello mushroom', 'chanterelle', 'chipotle chile pepper', 'corn tortilla chip', 'pork lard', 'orecchiette', 'corn bread', 'pepper jack', 'baby corn', 'bibb lettuce', 'cornichon', 'lardon', 'soda water', 'tiger prawn', 'walnut half', 'orange flower water', 'caraway seed', 'pastry shell', 'glace cherry', 'raspberry jam', 'sponge cake', 'sweet sherry', 'vanilla pod', 'pizza shell', 'mixed', 'ragu world style pasta sauc', 'triple sec', 'gaeta olive', 'oregano leaf', 'pizza dough', 'potato gnocchi', 'oil spray', 'pimenton', 'guajillo chile', 'nectar', 'seltzer water', 'bitter', 'hair', 'food coloring', 'shanghai noodle', 'tangerine', 'gelato', 'cherry preserve', 'liqueur', 'chevre', 'pie shell', 'beef sirloin', 'sugar pea', 'baton', 'croissant dough', 'pure vanilla extract', 'applesauce', 'hothouse cucumber', 'farmer cheese', 'umeboshi', 'halibut fillet', 'lamb shoulder', 'bulgur', 'cantaloupe', 'honeydew melon', 'duck leg', 'shrimp shell', 'celery seed', 'sourdough bread', 'escarole', 'boston butt', 'beef dog', 'dog bun', 'serrano chili', 'mushroom soy sauce', 'thickcut bacon', 'prepar salsa', 'dhal', 'coffee liqueur', 'daal', 'idli', 'anchovy', 'loaf', 'rotini', 'cod fillet', 'buckwheat soba noodle', 'wasabi powder', 'pork sparerib', 'pumpkin', 'shoyu', 'granola', 'bhindi', 'hanger steak', 'pastry dough', 'pandanus leaf', 'tapioca pearl', 'pastry', 'crust pie', 'buttercream frosting', 'ton wrapper', 'calvado', 'beef rump steak', 'chestnut mushroom', 'shrimp uncook', 'purpose', 'country', 'slab bacon', 'foot', 'pork bone', 'bulgur wheat', 'watermelon', 'bun', 'risotto', 'hominy grit', 'limeade concentrate', 'light rum', 'orange marmalade', 'tamarind concentrate', 'honey peanut', 'light kidney bean', 'thread vermicelli', 'flake', 'california avocado', 'canola', 'cilantro stem', 'corn husk', 'tzatziki', 'boneless lamb', 'grapefruit', 'habanero pepper', 'pimento olive', 'ditalini pasta', 'butter bean', 'soup', 'littleneck clam', 'chili pepper flake', 'apricot nectar', 'curry sauce', 'pappardelle pasta', 'toast', 'dulce leche', 'mozzarella', 'stilton', 'pickle relish', 'butter cooking spray', 'brandy', 'vanilla bean', 'salt pork', 'basmati', 'jasmine', 'tomato onion', 'round', 'fettuccine cook drain', 'soymilk', 'lemonlime soda', 'muenster cheese', 'lobster', 'rocket leaf', 'loin pork roast', 'lemon extract', 'anise extract', 'yolk', 'bartlett pear', 'vanilla ice cream', 'gala apple', 'style blend', 'quince', 'flower', 'cornbread mix', 'center cut loin pork chop', 'pumpkin pie spice', 'pancake mix', 'fryer chicken', 'mahimahi', 'buffalo sauce', 'asafoetida', 'nigella seed', 'togarashi', 'lumpia skin', 'sprout', 'liquid smoke', 'herbe provence', 'lager', 'sirloin steak', 'pork roast', 'shrimp tail', 'bay scallop', 'capellini', 'mild curry paste', 'frito', 'ranch salad mix', 'ponzu', 'pomegranate seed', 'pomegranate juice', 'lime slice', 'caesar salad', 'crouton', 'bacon bit', 'endive', 'duck breast', 'panko', 'sweet paprika', 'cheese soup', 'tater tot', 'whitefish', 'hellmann food mayonnai', 'ampalaya', 'chili mix', 'gran marnier', 'frisee', 'bacon fat', 'pernod', 'minicub', 'ajwain', 'cut', 'sodium vegetable broth', 'limoncello', 'bitter melon', 'tamarind extract', 'shichimi togarashi', 'rice bran oil', 'cavolo nero', 'winter squash', 'breast tender', 'pine nut', 'kahlua', 'beef stock cube', 'fleur sel', 'turkey breast cutlet', 'atta', 'methi leaf', 'wheat pastry flour', 'ice cream', 'boneless chicken', 'mackerel fillet', 'roast turkey', 'barilla', 'sugar syrup', 'linguini', 'heart marin', 'beefsteak tomato', 'perciatelli', 'mission fig', 'anchovy paste', 'chunky tomato salsa', 'lavender', 'farro', 'chervil', 'muscovado sugar', 'sweet yam', 'style mustard', 'focaccia', 'pork sausage', 'creme anglaise', 'bicarbonate soda', 'rapeseed oil', 'raspberry preserve', 'sponge', 'dorito', 'chuck steak', 'hatcho miso', 'pan', 'liquid honey', 'juniper berry', 'boneless beef chuck roast', 'shao wine', 'custard powder', 'frangelico', 'masala', 'ahi tuna steak', 'cabernet sauvignon', 'rump roast', 'blood orange juice', 'herb vinegar', 'mirliton', 'split pea', 'pig', 'soda bread', 'dog', 'style tomato', 'veal stock', 'crepe', 'beef sausage', 'whey', 'ear corn', 'essence', 'khoa', 'chana dal', 'caviar', 'wheat pizza crust', 'greekstyle vinaigrette', 'choy sum', 'cider', 'armagnac', 'cocoa', 'chicken fillet', 'yam', 'brine olive', 'juice concentrate', 'splenda calorie sweetener', 'day bread', 'pizza sauce', 'flatbread', 'hog', 'rioja', 'pork shoulder butt', 'fatback', 'stew meat', 'pork stew meat', 'pork neck', 'turkey stock', 'suet', 'oatmeal', 'pork blood', 'chicken schmaltz', 'file powder', 'tea leaf', 'ginseng', 'maple sugar', 'pie crust', 'cane vinegar', 'flounder fillet', 'spaghettini', 'ripe olive', 'sub bun', 'turkey breast', 'veal stew', 'fillet snapper', 'coke', 'rub', 'tomato soup', 'kamaboko', 'negi', 'panettone', 'sambuca', 'frozen top whip', 'pierogi', 'salmon roe', 'buckwheat flour', 'dill tip', 'calamansi juice', 'branzino', 'taco meat', 'wheat breadcrumb', 'macaroni', 'jerk marinade', 'scotch', 'mini phyllo dough shell', 'bow', 'sweet', 'dill seed', 'milk chocolate', 'hazelnut butter', 'seitan', 'fig jam', 'chicken stock cube', 'sofrito', 'coconut juice', 'kumquat', 'soman', 'cilantro root', 'brown mushroom', 'rouille', 'salad green', 'grain dijon mustard', 'pastry flour', 'starch', 'alfredo sauce', 'potato chip', 'rock salt', 'baking spray', 'annatto powder', 'greek yogurt', 'hummu', 'jerk spice', 'milk yogurt', 'wheat pita', 'custard', 'hash potato', 'kochujang', 'softwheat flour', 'bottle gourd', 'palm oil', 'passion fruit', 'cheese ravioli', 'cocktail cherry', 'cherry juice', 'port', 'sandwich roll', 'potato flour', 'rotelle', 'sausag', 'sprite', 'idaho potato', 'popcorn', 'marrow bone', 'sea bas', 'savory', 'pepper jack cheese', 'chunk', 'wheat soy sauce', 'canela', 'cream style corn', 'bread mix', 'banana blossom', 'bawang goreng', 'chile arbol', 'leaf spinach', 'bonito', 'brat', 'cinnamon roll', 'boneless pork shoulder roast', 'chocolate syrup', 'peperoncini', 'pheasant', 'rabbit', 'venison', 'bas', 'gyoza wrapper', 'bouillon cube', 'turkey breakfast sausage', 'veal shank', 'gold', 'paella rice', 'lemon peel', 'orange rind', 'onion salt', 'lobster meat', 'strawberry jam', 'vanilla essence', 'fettuccine', 'tuna water', 'turkey tenderloin', 'coco', 'bacon grease', 'peach syrup', 'cookie', 'portobello cap', 'oil fillet', 'wrapper', 'fungu', 'dairy milk', 'meal', 'honey ham', 'oxtail', 'chocolate wafer cookie', 'beef demiglace', 'mung bean', 'fine sugar', 'fideo', 'coconut extract', 'pure oil', 'heirloom tomato', 'bucatini', 'habanero sauce', 'shell pasta', 'sardine', 'kirsch', 'soybean paste', 'tangerine juice', 'mexicorn', 'turkey meat', 'coconut rum', 'cranberry juice', 'banana liqueur', 'harissa paste', 'lasagna', 'country style bread', 'pita pocket', 'velveeta', 'shirataki', 'enokitake', 'watercress leaf', 'tawny port', 'stout', 'meringue', 'drain', 'brisket', 'crema mexican', 'apple juice concentrate', 'sole', 'bouquet', 'vodka', 'tuna oil', 'apple pie spice', 'wonton skin', 'vanilla flavoring', 'cherry pepper', 'pink grapefruit juice', 'pink grapefruit', 'curlyleaf parsley', 'swanson beef broth', 'almond paste', 'tamale', 'meatball', 'cuban pepper', 'beef liver', 'turkey sausage', 'cantal', 'wafer', 'corn mix muffin', 'rice stick noodle', 'chow mein noodle', 'jackfruit', 'sansho', 'skinless chicken piece', 'pita round', 'bulk sausag', 'soybean sprout', 'truffle', 'burdock', 'tamarind juice', 'grenadine', 'lemonade concentrate', 'peach nectar', 'grape', 'merguez sausage', 'lowfat cheddar cheese', 'carnaroli rice', 'queso asadero', 'candy bar', 'milk yoghurt', 'graham cracker', 'bulb', 'crisp', 'cornflake crumb', 'baby rib', 'cavatappi', 'stir fry sauce', 'lowfat bean', 'bonein pork chop', 'split lentil', 'gram', 'bone ranch', 'rajma', 'fusilli', 'aai', 'almond milk', 'snail shell', 'haddock fillet', 'bread ciabatta', 'chicken sausage', 'spring roll skin', 'sea bass fillet', 'coleslaw mix', 'beef tenderloin steak', 'crab', 'cornonthecob', 'hollandaise sauce', 'tapioca', 'croissant', 'breast fillet', 'light butter', 'breadstick', 'frond', 'ditalini', 'cranberry bean', 'port wine', 'sorghum syrup', 'center cut bacon', 'california chile', 'apple butter', 'ball', 'pork shoulder boston butt', 'orange slice', 'lemon thyme', 'beef stew meat', 'sultana', 'uncle rice', 'compote', 'cointreau', 'chunk tuna water', 'lowfat cheddar', 'cacao powder', 'sesame chili oil', 'cocktail sauce', 'tartar sauce', 'baby eggplant', 'bing cherry', 'pumpkin seed', 'sodium tomato', 'sodium worcestershire sauce', 'ribeye roast', 'cooking sherry', 'emmenthal', 'liver', 'ackee', 'halibut', 'ale', 'shahi jeera', 'kewra essence', 'mutton', 'thai noodle', 'rainbow trout', 'tostada', 'nopale', 'posole', 'banana leaf', 'pork countrystyle rib', 'collard leaf', 'satsuma imo', 'stock powder', 'havarti cheese', 'monterey jack cheese', 'pork liver', 'beef jerky', 'crme cassis', 'lowfat ricotta cheese', 'maltose', 'cutlet', 'chocolate chip', 'chocolate sprinkle', 'milk chocolate chip', 'hamburger', 'bocconcini', 'partskim mozzarella', 'spinach thawed', 'stevia extract', 'squirt', 'cream celery soup', 'celery heart', 'peperoncino', 'imitation crab meat', 'kelp', 'doenzang', 'luncheon meat', 'sodium stock', 'pink bean', 'strozzapreti', 'tasso', 'onion flake', 'russet', 'cube steak', 'chop pecan', 'giblet', 'spelt', 'cane juice', 'dish pie crust', 'gin', 'kimchi juice', 'hen', 'knorr tomato bouillon chicken flavor cube', 'pepperoni turkei', 'mahi mahi', 'cajun style tomato', 'quince paste', 'lychee', 'gumbo', 'browning', 'beef bouillon', 'pearl tapioca', 'fine chop', 'sushi tuna', 'treacle', 'halibut steak', 'citron', 'marzipan', 'color food green', 'rack lamb', 'poblano', 'hellmann food light mayonnai', 'buttermargarine blend', 'celery stick', 'parmagiano reggiano', 'picholine', 'braeburn apple', 'seedless cucumber', 'pla', 'mullet', 'knorr chipotl minicub', 'dri oregano crush', 'potato purpo', 'lowsodium broth', 'barley flour', 'oz tomato paste', 'game hen', 'sodium bean', 'tex mex', 'sheet', 'radicchio leaf', 'vin santo', 'tomato basil sauce', 'tarragon vinegar', 'steak sauce', 'almond meal', 'shoulder chop', 'globe eggplant', 'lime leaf', 'collard', 'seedless watermelon', 'fat greek yogurt', 'peach slice', 'pizza crust mix', 'bouquet garni', 'passion fruit juice', 'nutella', 'pomegranate molass', 'mango chutney', 'ham steak', 'graham cracker crust', 'tagliatelle', 'bittersweet chocolate chip', 'prepar pesto', 'rise yeast', 'shuck corn', 'callaloo', 'annatto', 'palm vinegar', 'london broil', 'apricot jam', 'center cut pork chop', 'raita', 'raspberry liqueur', 'pink peppercorn', 'chilli paste', 'chocolate shaving', 'vanilla instant pudding', 'nilla wafer', 'spicy sausage', 'habanero chile', 'muscat', 'grissini', 'basil mayonnaise', 'candy sprinkle', 'chipotle sauce', 'dri leav rosemari', 'leafy green', 'millet', 'sumac', 'wheat starch', 'risotto rice', 'fat sodium chicken broth', 'ginger beer', 'fat cream mushroom soup', 'rock shrimp', 'splenda', 'mild chile', 'pepperoni slice', 'taco sodium', 'size tortilla', 'finger', 'chicken carcas', 'fishcake', 'part', 'spicy pork sausage', 'turtle bean', 'pork meat', 'pork fat', 'concentrate tomato paste', 'radish sprout', 'soup mix', 'bass fillet', 'pork stock', 'habanero', 'gochugaru', 'celery leaf', 'gumbo file', 'bean corn salsa', 'pepperidge farm puff pastry', 'tortilla shell', 'curd skin', 'turkey bacon', 'chicken base', 'arbol chile', 'bloody mix', 'chayote', 'mortadella', 'garlic paste', 'taro', 'chocolate cake mix', 'tamale filling', 'broccoli slaw', 'achiote', 'cardamon', 'chvre', 'kiwi fruit', 'curaao', 'pita loaf', 'strawberry preserve', 'plum vinegar', 'codfish', 'sodium taco', 'onion soup mix', 'char siu', 'celery root', 'pork cutlet', 'bolillo', 'loin', 'despelette', 'sandwich bun', 'achiote powder', 'wheat hamburger bun', 'ragu', 'mam', 'jack daniel', 'peach schnapp', 'ragu cheesi alfredo sauc', 'min', 'brine', 'grape leaf', 'macadamia nut', 'poha', 'taco bell home original', 'lamb stock', 'masoor dal', 'haddock', 'protein', 'chardonnay', 'virgin coconut oil', 'tart apple', 'buckwheat groat', 'cashew butter', 'cacao nib', 'chianti', 'boar', 'stilton cheese', 'adobo', 'satsuma', 'bonein chicken', 'shoot', 'taleggio', 'honey mustard', 'catalina', 'rice stick', 'cream sherry', 'preserve', 'duck drumstick', 'baby green', 'soup powder', 'york strip steak', 'picholine olive', 'soy', 'pineapple slice', 'char siu sauce', 'rump steak', 'roast pork', 'safflower', 'vanilla bean paste', 'remoulade', 'rice pilaf', 'sodium vegetable juice', 'shrimp stock', 'chile negro', 'roast beef', 'mostaccioli', 'uncle ben', 'matzo meal', 'rome apple', 'guanciale', 'pecorino', 'roquefort cheese', 'ruby port', 'grill', 'country pork rib', 'fat mozzarella', 'cranberry juice cocktail', 'promise buttery spread', 'brioche', 'sorrel', 'strawberry syrup', 'virgin oil', 'beef shoulder', 'bouillon', 'ruby grapefruit', 'beef deli roast slice thinli', 'rye whiskey', 'sazon', 'cumin seed', 'chickenapple sausage', 'waffle', 'breast tenderloin', 'baby kale', 'meyer lemon', 'farofa', 'hand', 'wheat noodle', 'chenpi', 'bean soup', 'accent', 'chocho', 'fat cheese', 'guajillo chile powder', 'shimeji mushroom', 'oysterflavor sauc', 'sherry wine', 'kaffir lime', 'cocacola', 'butter oil', 'beef bone', 'sodium beef stock', 'bone skin chicken thigh', 'arrowroot starch', 'cook drain', 'walnut oil', 'walnut piece', 'spray', 'pumpkinseed', 'spearmint', 'pomelo', 'winter melon', 'toor dal', 'pure maple syrup', 'angel hair', 'carnita', 'bacon piece', 'drummette', 'turkey kielbasa', 'dashi powder', 'shiso leaf', 'cavatelli', 'soy yogurt', 'sandwich', 'cream coconut', 'raman', 'spring water', 'pati', 'mochiko', 'wheat germ', 'rosewater', 'lemonade', 'arrowroot', 'wedge', 'lamb sausage', 'summer savory', 'cream shrimp soup', 'homemade stock', 'seltzer', 'lamb rib chop', 'holy basil', 'chocolate baking bar', 'grit quick', 'pea pod', 'sugar cane', 'peppermint extract', 'chocolate curl', 'gyoza skin', 'ricotta salata cheese', 'batter', 'romaine heart', 'recipe', 'agar', 'cake yeast', 'beef rib roast', 'bliss potato', 'mung bean noodle', 'whisky', 'earl grey tea leaf', 'tenderloin steak', 'queso blanco', 'mahi fillet', 'merlot', 'vanilla mix', 'mature cheddar', 'wheat couscou', 'freerange egg', 'cockle', 'coconut meat', 'coconut water', 'ginger pure', 'crostini', 'mesclun', 'yu choy', 'field lettuce', 'bread cut loaf', 'pancake', 'chunky', 'tempeh', 'melon', 'kaiser roll', 'marmalade', 'fat coconut milk', 'boneless turkey breast', 'cola', 'caramel', 'sausage meat', 'sweet roll', 'oloroso sherry', 'crispy rice cereal', 'kirschenliqueur', 'edam', 'rib pork chop', 'stew', 'reducedsodium tamari sauce', 'almond liqueur', 'boudin', 'kidney', 'oz tomato', 'gemelli', 'jerk sauce', 'meatloaf', 'fat yoghurt', 'cornflake', 'papad', 'sodium tomato sauce', 'mint sauce', 'freerange chicken', 'pineapple ring', 'jerusalem artichoke', 'gherkin', 'stick', 'homemade chicken broth', 'chocolate milk', 'lobster tail', 'bean garlic sauce', 'beef shoulder roast', 'roux', 'dal split', 'baby zucchini', 'gingersnap crumb', 'avocado leaf', 'sauterne', 'cajun spice mix', 'ginger piece', 'sodium teriyaki sauce', 'self', 'onion ring', 'olek', 'pork cube', 'jalape', 'chocolate ice cream', 'pea shoot', 'gizzard', 'sugar cube', 'ajinomoto', 'lacinato kale', 'prego mushroom sauce', 'coarse mustard', 'pink salmon', 'sodium tomato juice', 'wheat penne pasta', 'catsup', 'lime peel', 'pork butt roast', 'pie pastry', 'dri thyme crush', 'rice paddy herb', 'silver', 'banger', 'lentille du puy', 'mango salsa', 'meat sauce', 'cherry pie filling', 'malt syrup', 'pozole', 'cream liqueur', 'deli roll', 'linguica', 'pot roast', 'root vegetable', 'calf liver', 'fat cream', 'campanelle', 'pappadam', 'cuminseed', 'escargot', 'jelli strawberri', 'milk powder', 'hero roll', 'merluza', 'ancho', 'milkfish', 'fry', 'drambuie', 'grenadine syrup', 'rice powder', 'parmigiano', 'heart romaine', 'roast beef meat', 'oliv pit ripe', 'cream potato soup', 'quail egg', 'butter cake mix', 'marjoram leaf', 'burrata', 'quarter', 'vanilla wafer crumb', 'knorr chicken flavor bouillon cube', 'meat tenderizer', 'cassia cinnamon', 'apple pie', 'pork fillet', 'biscuit dough', 'clamato juice', 'dressing', 'beef heart', 'sweet pea', 'pepperoncini', 'breast strip', 'reducedsodium chicken broth', 'eye round steak', 'beef base', 'kasseri', 'grain pasta', 'extract', 'tomato pesto', 'pork neck bone', 'lipton tea bag', 'boneless sirloin steak', 'millet flour', 'mo hanh', 'bone broth', 'veal demiglace', 'pinot noir', 'campari', 'tentacle', 'camembert', 'steak seasoning', 'earl grey tea bag', 'sodium broth', 'caraway', 'tonkatsu sauce', 'channa dal', 'chunky mild salsa', 'shiro miso', 'aka miso', 'eye round roast', 'asafetida powder', 'kabocha squash', 'virginia ham', 'wheat cereal', 'gyoza', 'iceberg', 'bechamel', 'calamansi', 'dandelion green', 'beef fillet', 'parma ham', 'tortilla wrap', 'calamari', 'fresno chile', 'moisture mozzarella', 'cannellini bean', 'sundae syrup', 'fruit cocktail', 'round loaf', 'potato bread', 'whip', 'kewra water', 'vanilla bean ice cream', 'head shrimp', 'laurel leaf', 'canola mayonnaise', 'aai powder', 'knorr chicken flavor bouillon', 'corn flake', 'spiral', 'root', 'seedless raspberry jam', 'chop', 'elbow pasta', 'pineapple salsa', 'baby leaf lettuce', 'water spinach', 'chicken wing drummette', 'sodium store stock', 'thai jasmine rice', 'chip tortilla', 'orange extract', 'ear', 'lady apple', 'swanson chicken broth', 'potato flake', 'lumpia wrapper', 'corkscrew pasta', 'vanilla yogurt', 'jello', 'pastry sheet', 'kasha', 'sauvignon blanc', 'sugar pumpkin', 'char', 'filet mignon', 'dijon', 'cornhusk', 'mincemeat', 'beef kidney', 'potato vermicelli', 'pickle juice', 'mole sauce', 'pie filling', 'beef tongue', 'liquor', 'chihuahua cheese', 'wheat pizza dough', 'cannoli shell', 'bud', 'clover honey', 'garlic herb seasoning', 'pectin', 'mein', 'buttermilk cornbread', 'tempura batter', 'chili sauc', 'porridge oat', 'beni shoga', 'stone mustard', 'cajeta', 'cheese slice', 'center cut pork loin chop', 'pak choi', 'gingersnap cookie', 'balm', 'sodium ham', 'natto', 'lowfat cheese', 'veal rib chop', 'corn salsa', 'goat', 'miniature semisweet chocolate chip', 'cube', 'chicken strip', 'abura age', 'juice cocktail', 'grape juice', 'tapenade', 'cane syrup', 'turkey sausage link', 'pace picante sauce', 'shoulder', 'pasilla', 'sushi', 'challa', 'wheat penne', 'veal shoulder', 'marrow', 'oat flour', 'schmaltz', 'round roast', 'carne seca', 'farina', 'sugar substitute', 'duxelle', 'wheat linguine', 'pearl couscou', 'onion gravy', 'pork hock', 'anisette', 'ouzo', 'brownie', 'caper berry', 'nopalito', 'barbecue rub', 'cod fish', 'mie', 'verju', 'rice mix', 'shank', 'mackerel', 'bread butter pickle', 'albacore', 'canton noodle', 'cherrystone clam', 'veal scallop', 'boneless sirloin', 'kefir', 'chunky pasta sauce', 'pumpernickel bread', 'liver pate', 'color food orang', 'vanilla powder', 'kohlrabi', 'fudge brownie mix', 'dende oil', 'roe', 'cayenne pepper sauce', 'pork bouillon cube', 'chocolate toffee', 'whip thaw', 'butterscotch chip', 'pork rind', 'gorgonzola dolce', 'bean curd', 'yuca', 'mountain yam', 'manzanilla', 'vine leaf', 'oleo', 'coarse sugar', 'frosting', 'silver tequila', 'acid', 'meat filling', 'skinless salmon fillet', 'lamb neck', 'sorghum flour', 'crayfish', 'honeydew', 'popcorn chicken', 'cook egg', 'sweet vermouth', 'beef tendon', 'pork bean', 'crisco', 'furikake', 'jalapeno pepper', 'gold tequila', 'pomegranate', 'squash blossom', 'rye bread', 'peach pie filling', 'bisquick', 'burgundy', 'roast breast chicken', 'tritip roast', 'orange bitter', 'guava', 'blackberry jam', 'konnyaku', 'cream sauce', 'pork leg', 'bread machine yeast', 'filet mignon steak', 'queso anejo', 'spring roll', 'monkfish', 'mild salsa', 'stone flower', 'dip', 'boneless chicken cutlet', 'rice cracker', 'fullfat yogurt', 'wheat rigatoni', 'capocollo', 'minute rice', 'kiwifruit', 'beef gravy', 'sweet bean paste', 'pizza', 'carrot stick', 'duck liver', 'clementine', 'penn pasta cook drain', 'candlenut', 'broilerfryer', 'cassava', 'dr pepper', 'toffee bit', 'chocolate glaze', 'baby gem lettuce', 'lavender blossom', 'comfort', 'lowfat ricotta', 'onion bottom', 'neufchtel', 'fri', 'mushroom soup', 'lowfat marinara sauce', 'bread loaf', 'eel', 'tart shell', 'sorbet', 'helix snail', 'harissa sauce', 'cracker meal', 'crab leg', 'country loaf', 'skate', 'chipotle paste', 'flounder', 'bean dip', 'oat bran', 'jambalaya mix', 'hibiscus flower', 'bread roll', 'brioche bun', 'lowfat pasta sauce', 'frozen spinach', 'caramel ice cream topping', 'grain bread', 'cake batter', 'yucca', 'chunky tomato sauce', 'buffalo mozzarella', 'knorr homestyl stock chicken', 'swordfish', 'poppadom', 'jujube', 'coarse semolina', 'herb feta', 'parmigianareggiano', 'crabmeat thaw drain', 'homemade beef stock', 'mizuna', 'baking chocolate', 'puffed rice', 'beef round', 'progresso sodium chicken broth', 'mole paste', 'yellowfin tuna', 'pattypan squash', 'ranch dip mix', 'shellfish', 'buckwheat', 'twist', 'eggroll wrapper', 'mcintosh apple', 'raspberry sauce', 'empanada', 'yuzu', 'rice bran', 'reduction', 'sooji', 'chiffonade', 'raspberry vinegar', 'jumbo shell', 'butter extract', 'tom paste', 'yuzu juice', 'colby', 'arhar dal', 'alfalfa sprout', 'calabaza', 'carne asada', 'tangerine zest', 'saffron powder', 'bread butter pickle slice', 'sweet mix', 'boneless skin chicken', 'pt', 'bone ham', 'strawberry ice cream', 'cactus paddle', 'lamb loin', 'mitsuba', 'unagi', 'muffin mix', 'potsticker wrapper', 'ganache', 'chestnut pure', 'knorr recip mix', 'durum wheat flour', 'fat cream chicken soup', 'loin pork chop', 'flageolet', 'pork sirloin chop', 'vanilla pudding', 'duck egg', 'hazelnut liqueur', 'knorr reduc sodium chicken flavor bouillon', 'yeast extract', 'chicken demiglace', 'kangkong', 'panang curry paste', 'island', 'queso panela', 'slider bun', 'acini di pepe', 'cookie crumb', 'sago', 'framboise eaudevie', 'maui onion', 'pistou', 'pot sticker', 'boneless salmon fillet', 'mango juice', 'head cauliflower', 'kinchay', 'wheat rotini', 'halloumi cheese', 'apple brandy', 'sourdough starter', 'maitake mushroom', 'wheat hair pasta'])"
      ]
     },
     "execution_count": 26,
     "metadata": {},
     "output_type": "execute_result"
    }
   ],
   "source": [
    "print(type(vocab))\n",
    "#vocab.keys()"
   ]
  },
  {
   "cell_type": "code",
   "execution_count": 79,
   "metadata": {},
   "outputs": [],
   "source": [
    "ingredients = list()\n",
    "\n",
    "for recipe in recipes_as_sentences_list:\n",
    "    for ingredient in recipe:\n",
    "        ingredients.append(ingredient.strip())"
   ]
  },
  {
   "cell_type": "code",
   "execution_count": 80,
   "metadata": {},
   "outputs": [
    {
     "name": "stdout",
     "output_type": "stream",
     "text": [
      "417044\n",
      "3940\n"
     ]
    }
   ],
   "source": [
    "print(len((ingredients)))\n",
    "ingredients_set = set(ingredients)\n",
    "print(len((ingredients_set)))"
   ]
  },
  {
   "cell_type": "code",
   "execution_count": 81,
   "metadata": {},
   "outputs": [],
   "source": [
    "unknown_ingredients = []\n",
    "for ingredient in ingredients_set:\n",
    "    if ingredient not in vocab.keys():\n",
    "        unknown_ingredients.append(ingredient)"
   ]
  },
  {
   "cell_type": "code",
   "execution_count": 87,
   "metadata": {},
   "outputs": [
    {
     "name": "stdout",
     "output_type": "stream",
     "text": [
      "1427\n",
      "['ciabatta bun', 'curry mix', 'bulb fennel', 'yogurt cheese', 'yoplait', 'beef carpaccio', 'light tuna', 'pasta wagon wheel', 'lipton pure leaf tea', 'asakusa', 'skin bone chicken legs', 'conchiglie', 'sesameginger', 'broiler chicken', 'banana cream pudding', 'orange blossom extract', 'seville orange juice', 'amba', 'steelcut oatmeal', 'gravenstein apple', 'sodium parmesan cheese', 'fryer', 'hip tea bag', 'carpaccio', 'cremini', 'peapod', 'energy drink', 'rasher', 'masala mix', 'corn bread crumb', 'wine vinaigrette', 'fructose', 'water cracker', 'pork tongue', 'semi farro', 'beef bouillon powder', 'mexico chile pod', 'veggie patty', 'gram dal', 'loofah', 'pane', 'lime beverage', 'swanson chicken stock', 'jamon serrano', 'biscuit crumb', 'tiger', 'ginseng tea', 'gomashio', 'bone marrow', 'prosciutto fat', 'efu noodl', 'vanilla glaze', 'jambalaya', 'sodium cajun', 'pignoli', 'lamb stew', 'mi', 'riblet', 'soy marinade', 'chocolate fudge ice cream', 'celery flake', 'grind cornmeal', 'purple potato', 'lowfat feta', 'hellmann food canola cholesterol mayonnai', 'blanco', 'bologna', 'peppermint', 'mexico chile powder', 'orange brandy', 'hoja santa leaf', 'tofu puff', 'peanut butter chip', 'mix yellow', 'soup bone', 'breakfast sausage link', 'boneless chop', 'almond filling', 'tomato pasta sauce', 'veal bone', 'cajun mix', 'kalamansi juice', 'chocolate ice cream mix', 'boy choy', 'bndictine', 'sloe gin', 'wheat pita pocket', 'bottom round', 'verbena', 'sodium garbanzo bean', 'boneless skinless chicken tenderloin', 'wheatberry', 'saki', 'grain', 'sodium fat vegetable broth', 'shank half', 'brill', 'soy nut', 'fowl', 'comice pear', 'microgreen', 'knorr rice side cheddar broccoli', 'cummin', 'linguine cook drain', 'almond bark', 'swis', 'lipton recip onion soup mix', 'sodium salt', 'protein powder', 'plum wine', 'lotus seed', 'hamachi', 'padron pepper', 'dangmyun', 'chicken gravy', 'game', 'knorr cilantro minicub', 'jambon bayonne', 'cuttlefish', 'sablefish', 'ice cream salt', 'chateaubriand', 'chocolate candy', 'currant jelly', 'treviso', 'skinless flounder fillet', 'chilcostle chile', 'ginger liqueur', 'meat extract', 'bellpepper', 'grain roll', 'cashew chop unsalt', 'toast bread', 'salmon caviar', 'accompaniment', 'custard dessert mix', 'beaujolai', 'breakfast tea leaf', 'carrot juice', 'beetroot', 'carp', 'duck bone', 'pork shank', 'winesap', 'apricot brandy', 'chocolate spread', 'arhar', 'beluga lentil', 'mixture', 'center cut pork roast', 'tikka masala curry paste', 'apple slouse', 'masur dal', 'chicken consomme', 'mian', 'lamb strip', 'lamb breast', 'chocolate truffle', 'nocalorie sweetener', 'lingcod', 'fillet medallion', 'salmon sashimi', 'chuck tender', 'piment despelette', 'essence seasoning', 'stir fry beef meat', 'quahog clam', 'wensleydale', 'glutenfree pasta', 'bacon rind', 'marron', 'coconut milk powder', 'teff', 'thick curd', 'vinegar wine', 'earth', 'buckwheat honey', 'graham cracker pie crust', 'veal tongue', 'tartlet shell', 'crouton italian season', 'cabbage head', 'almond syrup', 'pork sausage link', 'tritip steak', 'paratha', 'vanilla almondmilk', 'light chicken stock', 'pangasiu', 'pork cheek', 'soup pasta', 'chocolate graham cracker', 'wheat orzo', 'fat sodium pasta sauce', 'chicken chorizo sausage', 'bird pepper', 'ketjap', 'petit pois', 'truffle butter', 'skate wing', 'shrimp powder', 'snap', 'fat graham cracker crumb', 'banh pho rice noodle', 'madeleine', 'strawberry yogurt', 'knorr side cheesi cheddar', 'biga', 'carrot green', 'shortcake', 'ragu cheesi doubl cheddar sauc', 'barberry', 'katsuo dashi', 'readymade pie crust', 'fruit juice', 'pancetta slice', 'bouillon powder', 'preserv raspberri', 'crme framboise', 'barley miso', 'chocolate chip cookie ice cream', 'chopmeat', 'goat s milk cheese', 'sugar cookie dough', 'tagliarini', 'legume', 'linguisa', 'lowfat salad', 'spring green', 'queso fresca', 'pepper blend', 'apple puree', 'jerk mix', 'grana', 'ammonium bicarbonate', 'swede', 'filipino eggplant', 'corn muffin', 'malt powder', 'style roll', 'spice mix', 'levain bread', 'aquavit', 'cereal flake', 'oz milk', 'chocolate chip cookie mix', 'barramundi fillet', 'pork blade steak', 'chorizo spanish', 'chocolate extract', 'mini banana', 'gumbo file powder', 'butter cake', 'sorghum', 'mung bean vermicelli', 'knorr pasta side', 'chicken rice', 'sesame salt', 'blueberry pie filling', 'lowfat greekstyl yogurt', 'canola oil cooking spray', 'venison steak', 'scrod fillet', 'flax egg', 'wheat peasant bread', 'fudge', 'wishbone country', 'turbot', 'pain au levain', 'chocolate chunk', 'fettuccini', 'grain rotini', 'silver dragee', 'fern', 'lavender honey', 'mos', 'lowfat sausage', 'smithfield ham', 'bone wine vinaigrett', 'tomato sauce sodium', 'disco empanada frozen', 'rigatoni tube pasta', 'fat cream cheese', 'panela', 'tarama', 'beet juice', 'toast point', 'chicken salad', 'chocolate drink', 'sodium cheese', 'au jus mix', 'sobrasada', 'wondra', 'cooking salt', 'dairy cream', 'grain muffin', 'oat milk', 'food paste color', 'pot pie', 'crab claw', 'wheat fusilli', 'sugar ketchup', 'coarsegrain salt', 'purple grape', 'shoga', 'erythritol', 'cream butter', 'raki', 'bone guacamol ranch', 'tuong', 'quorn', 'cook drain pasta ziti', 'rum raisin ice cream', 'vanilla soy milk', 'pork tail', 'cassis liqueur', 'caramel ice cream', 'zucchini blossom', 'oat groat', 'velvet cake mix', 'minute steak', 'paccheri', 'choy', 'milk cream', 'spinach pat dry', 'seafood base', 'haricot bean', 'paper', 'fillet steak', 'amber', 'sodium chili sauce', 'wheat potato bun', 'shark steak', 'homemade meatball', 'pork sirloin', 'mostarda', 'bean stir fry sauce', 'seafood glaze', 'coconut milk yogurt', 'huckleberry', 'borage', 'crab stick', 'fat cheddar chee', 'cornbread crumb', 'creme cacao', 'squash seed', 'wheat sourdough bread', 'beef soup bone', 'lavender flower', 'food', 'veal knuckle', 'strip steak', 'bhaji', 'goose liver', 'agave tequila', 'mango nectar', 'citron peel', 'piripiri sauce', 'top', 'fatfree cheddar cheese', 'skin potato', 'shoulder steak', 'awase miso', 'pork roll', 'lowfat goat cheese', 'boneless beef round steak', 'cream chocolate sandwich cookie', 'arak', 'grape vine leaf', 'flan', 'fondant', 'pasilla chile pepper', 'anise powder', 'granita', 'proscuitto di parma', 'cabbage lettuce', 'pandan extract', 'jus mix', 'pudding mix', 'salt seasoning', 'bone', 'arame', 'glucose', 'liquorice', 'calabash', 'honeycomb tripe', 'blackstrap molass', 'violet', 'baking powder', 'amino', 'meat glaze', 'champagne grape', 'turkey mince', 'sirloin tip steak', 'butterscotch pudding mix', 'onion seed', 'pumpernickel', 'baby tatsoi', 'cheese food', 'vanilla custard', 'lowfat turkey kielbasa', 'multigrain penne pasta', 'dandelion', 'heirloom squash', 'cocktail pumpernickel bread', 'cross rib roast', 'country crock honey spread', 'cream yogurt', 'potato starch flour', 'cream style cottage cheese', 'pinhead oatmeal', 'kochu chang', 'master', 'fedelini', 'gold leaf', 'muscovy', 'sugar pearl', 'sack', 'cajuncreole mix', 'alphabet pasta', 'flower petal', 'wheat tortilla wrap', 'chimichurri', 'abbamele', 'basa fillet', 'kumquat syrup', 'stellette', 'eye steak', 'giblet stock', 'wheat bun', 'nama shoyu', 'halfandhalf', 'peach vodka', 'dark soy', 'margarine spread', 'bock beer', 'shoulder roast', 'kipper', 'cream cheese spread', 'knorr parslei minicub', 'breast lamb', 'blackpepper', 'knorr tomato bouillon chicken flavor', 'sodium cream chicken soup', 'mint extract', 'lady finger', 'tbone steak', 'seafood seasoning', 'sodium fat broth', 'peppermint candy', 'shell steak', 'pickle wedge', 'psyllium husk', 'tart filling', 'hakusai', 'buffalo mozarella', 'kefalotiri', 'buttermilk cornmeal mix', 'samphire', 'hoagi roll', 'turbot fillet', 'style bread crumb', 'miniature chocolate chip', 'crusty loaf', 'glutenfree chicken stock', 'pinot blanc', 'dark chicken stock', 'ounc ziti pasta cook drain', 'veal loin chop', 'pound cake mix', 'yeast flake', 'wheat rotini pasta', 'caramel syrup', 'worcestershire sauce sodium', 'ragu world style tomato basil pasta sauc', 'ranch dip', 'sauce mix', 'taro leaf', 'chicken water', 'wheat submarine loaf', 'crosswise', 'salt tomato', 'tuna drain', 'chai tea concentrate', 'wheat cracker', 'sodium pinto bean', 'foccacia', 'thickener', 'country crock calcium vitamin d', 'vegan bouillon cube', 'branca menta', 'peach juice', 'valencia rice', 'century egg', 'ibarra', 'turkey thigh', 'lamb leg steak', 'apple schnapp', 'perch', 'tostito', 'lemon pudding', 'butternut', 'pure vanilla', 'goose', 'lecithin', 'blanco tequila', 'orange soda', 'sweet chili sauce', 'capon', 'mandarin orange juice', 'artichoke bottom', 'hoja santa', 'aspic', 'spot prawn', 'nakano', 'butterscotch filling', 'imitation seafood', 'wheat bread dough', 'scone', 'mini mm', 'katsuo bushi', 'yellowfin', 'light nectar', 'mint syrup', 'tupelo honey', 'daiya', 'loin steak', 'redfish', 'gobo root', 'king salmon', 'pike', 'apple ring', 'sazon goya coriander annatto', 'mix mushroom', 'sodium salsa', 'gao', 'alum', 'mint chocolate chip ice cream', 'sumac powder', 'chowchow', 'peppermint schnapp', 'lamb steak', 'blood sausage', 'blueberri preserv', 'dragon fruit', 'longan', 'cinnamon ice cream', 'sockeye', 'uncle', 'beef flank steak', 'nondairy', 'moose', 'reblochon', 'havarti', 'muscavado sugar', 'rock game hen', 'yakinori', 'tart crust', 'sheepshead', 'sugarcane', 'proactiv', 'cumberland sausage', 'stolichnaya', 'side pork', 'branston pickle', 'wheat bread slice', 'duck meat', 'soybean', 'pineapple syrup', 'wheat beer', 'cascabel chile', 'beverage', 'turkey meatball', 'venison roast', 'cannelloni shell', 'strip loin', 'chocolate sandwich cookie', 'puff pastry cup', 'lapsang', 'splenda granular', 'wishbone', 'vinaigrette salad', 'foster boneless skinless chicken breast', 'brownie layer', 'pork rib chop', 'poppyseed', 'chicken egg', 'tricolor quinoa', 'candy cane', 'cilantro pesto', 'oil mayonnaise', 'cereal', 'kokum', 'laksa paste', 'coffee lowfat yogurt', 'shoulder lamb chop', 'eye round', 'egg beater', 'abalone', 'burgundy snail', 'hijiki', 'crumb crust', 'chocolate chip cookie dough', 'komatsuna', 'softshell clam', 'citrus slice', 'hierba santa', 'burger roll', 'btarde', 'salt herb', 'stevia powder', 'chocolate milk mix', 'king crab leg', 'chioggia', 'kirschwasser', 'tangelo', 'cherry vanilla ice cream', 'rape', 'cabernet', 'conch', 'celery cabbage', 'pudding', 'falafel', 'shark', 'sashimi grade tuna', 'cream ic peach', 'cointreau liqueur', 'pollock', 'aleppo', 'sugar cane juice', 'recipe mix', 'cholesterol egg substitute', 'blade steak', 'sucrolose sweetener', 'maca powder', 'butter flavor', 'pearl rice', 'shoulder meat', 'turkey ham', 'buttermilk ranch', 'chocolate mousse', 'shrimp chip', 'lillet', 'clementine section', 'lamb rack', 'burro banana', 'mahlab', 'lamb neck fillet', 'orgeat syrup', 'vanilla vodka', 'beurre mani', 'carrot pea', 'pompano fillet', 'cream broccoli soup', 'sunchoke', 'milk mozzarella cheese', 'lamb cube', 'amber rum', 'keema', 'rusk', 'cajun remoulade', 'skin', 'morsel', 'salt water', 'cashew milk', 'chocolate graham cracker crumb', 'chunky tomato', 'riso', 'strawberry gelatin', 'crabapple', 'ceylon cinnamon', 'oil anchovy', 'basil oil', 'tallow', 'potato nugget', 'tamarind pod', 'chuck rib', 'wheat muffin', 'bottom round roast', 'verjuice', 'leg', 'bread yeast', 'turkey dog', 'roquefort', 'crescent dough', 'squid tube', 'peach sorbet', 'seed oil', 'cocoa mix', 'turtle', 'sodium kidney bean', 'centercut salmon fillet', 'baking bar', 'yam noodle', 'link', 'acid powder', 'blackberry pie yogurt', 'cornstarch noodle', 'sourdough roll', 'ginkgo nut', 'snapper fillet', 'foie', 'frangipane', 'milk chocolate kiss', 'grain baguette', 'trumpet mushroom', 'shrimp meat', 'chuno sauce', 'nonfat milk', 'banh hoi', 'hop', 'ratatouille', 'lapsang souchong', 'bison', 'citrus fruit', 'fat sodium tomato herb pasta sauce', 'pork picnic roast', 'pork heart', 'chile puree', 'mantou', 'hickory smoke', 'kappa', 'melon liqueur', 'watermelon radish', 'lowfat dressing', 'knorr reduc sodium chicken flavor bouillon cube', 'tomato relish', 'tortelloni', 'jerk rub', 'haloumi', 'lamb bouillon cube', 'pasti', 'cinnamon graham cracker', 'cucuzza', 'praline', 'alcohol', 'shungiku', 'mustard sauce', 'coffee creamer', 'wonton strip', 'i believ oil spread', 'cherry gelatin', 'melissa', 'spring mix', 'royal olive', 'rye flour', 'sea cucumber', 'amberjack fillet', 'cactu', 'beef shin', 'ranchstyle', 'coke zero', 'lox', 'onion slice', 'honey whiskey', 'mousse', 'boneless ham', 'cappuccino', 'barley grit', 'cipollini onion', 'toffee sauce', 'orchid', 'turkey salami', 'dukkah', 'sushi vinegar', 'lambrusco', 'amaranth', 'wishbone sesame ginger vinaigrette', 'satsuma orange', 'dhaniya powder', 'goat milk feta', 'drum', 'almond oil', 'bai cai', 'haba', 'orange pekoe tea', 'breakfast tea', 'rotini pasta cook drain', 'fil', 'oguraan', 'montreal steak', 'cortland apple', 'sodium chicken flavor mix', 'lowfat primavera', 'sugarcane juice', 'bee pollen', 'tamarind water', 'lobster stock', 'peach salsa', 'chunky style pasta sauce', 'herb cheese', 'lipton onion soup mix', 'mojo marinade', 'teleme', 'frank', 'mild turkey sausage', 'cream tomato soup', 'mentsuyu', 'lamb rib roast', 'harusame', 'madagascar bourbon vanilla extract', 'tomato vine', 'bear', 'knorr side creami garlic shell', 'lotus leaf', 'teriyaki marinade', 'chrysanthemum', 'balm leaf', 'lavash', 'praline syrup', 'evapor lowfat milk', 'myzithra', 'herb mix', 'lowfat tortilla chip', 'pina colada mix', 'dri fruit tropic', 'acai juice', 'arrow root', 'robiola', 'cream cheese lowfat', 'cardoon', 'tatsoi', 'soy glaze', 'pepperocini', 'pullman loaf', 'skinless chicken breast fillet', 'citru', 'lowfat jarlsberg cheese', 'demi baguette', 'jambalaya rice mix', 'wheat baguette', 'cipollini', 'lowfat deli ham', 'daikon sprout', 'sodium fat pasta sauce', 'porcini powder', 'carambola', 'rockfish', 'coffee extract', 'pilsner', 'aonori', 'kasu', 'turkey breast tenderloin', 'turkey burger', 'queso crema', 'speck', 'baking sugar', 'savoy spinach', 'part skim ricotta chee', 'knorr homestyl stock beef', 'smoke', 'creamer potato', 'heeng', 'turkey drumstick', 'barbecue', 'domino', 'duck sauce', 'grain flour', 'fruit filling', 'chocolate frosting', 'winter savory', 'malt', 'jamaica', 'saltpeter', 'imitation vanilla flavoring', 'style sandwich roll', 'tuaca', 'porter', 'rooster', 'barolo', 'wagon wheel', 'egg pasta', 'pasta shape', 'meat fat', 'pancit canton', 'celery top', 'scrod', 'blood', 'food cake mix', 'matcha', 'celery powder', 'strawberry compote', 'aloe juice', 'pimenton vera', 'boneless veal shoulder', 'drink', 'fideos pasta', 'ear fungu', 'asti spumante', 'ficelle', 'pepperidge farm puff pastry sheet', 'pancit', 'beef cheek', 'vanilla lowfat ic cream', 'xuxu', 'tvp', 'pummelo', 'assam', 'macaroni cheese dinner', 'skinless boneless turkey breast half', 'texmex cheese', 'spicy mayonnaise', 'sato imo', 'soya cheese', 'wheat dough', 'poussin', 'stem ginger', 'steak fillet', 'rennet', 'boneless skinless chicken fillet', 'absinthe', 'v juice', 'duck stock', 'milk chocolate piece', 'water chestnut powder', 'sturgeon', 'matsutake mushroom', 'mentaiko', 'garden', 'grassfed beef', 'boneless chicken fillet', 'gingersnap cookie crumb', 'bertolli vodka sauc cream', 'cactus leaf', 'ox tongue', 'wood mushroom', 'turkey breast steak', 'sesame butter', 'needle', 'watermelon seed', 'salt southwest chipotle', 'baby okra', 'waffle fry', 'barilla piccolini mini', 'blackcurrant syrup', 'touch', 'treviso radicchio', 'carnation', 'wrap', 'matzo', 'butter ice cream', 'seed mole', 'salsify', 'veal scallopini', 'date sugar', 'dip mix', 'couli', 'meat mixture', 'george dickel', 'bamboo', 'pickle spear', 'house', 'dri basil crush', 'liverwurst', 'curd stick', 'ladys house', 'coconut chip', 'blackberry brandy', 'shanghai bok choy', 'fruit puree', 'galanga', 'gravlax', 'morcilla', 'oyster liquor', 'chile colorado', 'grain alcohol', 'kim chee', 'mushroom powder', 'sodium tomato paste', 'boneless steak', 'ciabatta roll', 'butter salt', 'multigrain cereal', 'citrus peel', 'meat stock', 'baobab fruit powder', 'lo bok', 'romana', 'honey graham cracker', 'calamari steak', 'nonpareil', 'anise oil', 'flavor', 'bonein rib', 'bresaola', 'sodium soup base', 'tomato cream sauce', 'cod roe', 'chourico', 'miswa', 'peel chop', 'raspberry juice', 'dasheen', 'lamb kidney', 'karashi', 'tongue', 'pansy', 'wheat bread cube', 'seed filling', 'muscadine grape', 'poolish', 'cream powder', 'caulifloweret', 'tomato jam', 'opo squash', 'karo', 'bratwurst', 'plum jam', 'dark miso', 'wheat penne rigate', 'pork tenderloin medallion', 'eggnog', 'sturgeon fillet', 'wheat bread round', 'con queso', 'pippin apple', 'sodium chicken bouillon granule', 'char fillet', 'spinach tortilla', 'light cream', 'bitter gourd', 'soursop', 'teardrop tomato', 'seed butter', 'maple extract', 'anise liqueur', 'chocolate liqueur', 'clam sauce', 'yellowtail snapper fillet', 'liquid sweetener', 'chile verde', 'pocket bread', 'corn niblet', 'tobiko', 'redcurrant jelly', 'burrito mix', 'hazelnut flour', 'branzino fillet', 'tomate verde', 'clementine juice', 'pancake batter', 'cooking sauce', 'buffalo', 'curry sauce mix', 'fruitcake', 'boneless beef rib eye steak', 'peach pure', 'marshmallow vodka', 'pecan', 'galliano', 'turkey carcas', 'vodka sauce', 'glutenfree oat', 'oil orange', 'mild enchilada sauce', 'graviera', 'range chicken breast', 'chili habanero pepper', 'hyssop', 'process', 'pink lentil', 'baby broccoli', 'crescent dinner roll', 'longaniza', 'muenster', 'rice milk', 'pancit bihon', 'tamari sauce', 'pearl', 'cinnamon candy', 'anise basil', 'moonshine', 'claw', 'pepper leaf', 'butter flavor shortening', 'schnapp', 'stone grit', 'vanilla frosting', 'date molass', 'wine syrup', 'potato roll', 'proscuitto', 'wolfberry', 'mini ravioli', 'mesquite seasoning', 'angu', 'karo syrup', 'cream cheese onion', 'guinea hen', 'wheat spaghettini', 'food gel', 'chile piquin', 'satsuma juice', 'cannelloni', 'pandan essence', 'ginger syrup', 'cranberry juice concentrate', 'coconut butter', 'guava paste', 'ragu pizza sauc', 'lotus seed paste', 'seafood breader', 'doubledark soi sauc', 'dessert topping', 'taste', 'fat coleslaw', 'castellane', 'bigoli', 'torpedo roll', 'country gravy', 'chicory', 'baby beet', 'tubettini', 'peppadew', 'snip fresh dill', 'carnation milk', 'perch fillet', 'yellowtail', 'soybean oil', 'vanilla bean seed', 'boysenberry', 'jerk paste', 'egg roll skin', 'miso sesame sauce', 'romano', 'beef boneless meat stew', 'strawberry extract', 'peanut brittle', 'meringue powder', 'buttercup squash', 'meat cut', 'italianstyle meatball', 'amontillado sherry', 'zaatar', 'saltine crumb', 'chicken flavor mix', 'sesame seed paste', 'bonein steak', 'block cream cheese', 'pasta rotel', 'sub roll', 'chili con carne', 'mooli', 'wheat toast', 'skinless mahi mahi fillet', 'bourbon liqueur', 'sea bream', 'v', 'conger eel', 'creole mix', 'cooki vanilla wafer', 'grain salt', 'stem ginger syrup', 'chestnut flour', 'cream half half', 'water heart', 'paste tomato', 'veal breast', 'hazelnut meal', 'food mix', 'garland chrysanthemum', 'mrs dash mix', 'orange roughy', 'banana flower', 'jimmy', 'licorice root', 'wheat pita round', 'prik', 'kelp noodle', 'sazon goya', 'ragu world style tradit pasta sauc', 'crumpet', 'burger style', 'bacon salt', 'breadfruit', 'sodium chicken', 'frozen spinach thawed', 'caciocavallo', 'wheat pasta shell', 'pork thick', 'veal medallion', 'gravy granule', 'strip loin steak', 'america', 'dairy coconut ice cream', 'chocolate mix', 'citrus juice', 'tamarind pure', 'cinnamon candy cane', 'coconut syrup', 'frankfurter', 'bertolli tradit sauc', 'tortellini cook drain', 'hibiscu', 'masago', 'lop chong', 'blend', 'sorghum molass', 'baby goat', 'pastry tart shell', 'crispy bacon', 'southwest seasoning', 'fillet beef', 'meat marinade', 'orange roughy fillet', 'raspberry sherbet', 'soy chorizo', 'shiraz', 'salt cajun creole', 'saba', 'muscadet', 'ikura', 'goya sazon', 'ear mushroom', 'brandy extract', 'vanilla cake mix', 'shiromiso', 'beer batter', 'tikka paste', 'bihon', 'mini pepperoni slice', 'sodium garbanzo', 'stick butter', 'cod cheek', 'jumbo shell pasta cook drain', 'kampyo', 'muesli', 'lemon vodka', 'hibiscus blossom', 'friselle', 'finger chili', 'wiener', 'boneless skinless turkey breast', 'sodium cream mushroom soup', 'nashi', 'goma', 'beech mushroom', 'chicken pan', 'lemon soda', 'glace', 'sucanat', 'veal loin', 'citrus vinaigrette', 'panch phoran', 'au jus gravy', 'farfalline', 'kewra', 'huitlacoche', 'sodium style tomato', 'veal kidney', 'bermuda onion', 'skinless boneless chicken breast fillet', 'cassava root flour', 'bbq', 'chocolate cocoa powder', 'manouri', 'boneless duck breast half', 'pork loin rib chop', 'hog jowl', 'leg veal', 'chicken wingette', 'sodium beef bouillon granule', 'sun tomato dressing', 'butterscotch sauce', 'veget soup mix', 'slider roll', 'vindaloo paste', 'praline topping', 'doubanjiang', 'chunk juice', 'peanut powder', 'boneless beef sirloin steak', 'cone', 'katakuriko', 'ciabatta loaf', 'herbsaint', 'mushroom broth', 'turkey gravy', 'rotel pasta cook drain', 'chicken nugget', 'pork rub', 'brioche bread', 'cassava meal', 'cake pound prepar', 'licor', 'trotter', 'crme cacao', 'blossom', 'macaron', 'honey liqueur', 'pork sirloin roast', 'kongstyle noodle', 'chocolate stick', 'poi', 'liver sausage', 'veal escalope', 'cucumber salad', 'maifun', 'scape pesto', 'chiltepn', 'grain bun', 'bouillon granule', 'raclette', 'vanilla cream', 'turkey breast meat', 'lavender bud', 'triscuit', 'bran flake', 'oil tomato', 'truffle salt', 'orange glaze', 'chocolate leaf', 'hibiscus tea', 'razor clam', 'beef stew mix', 'sherbet', 'papalo', 'boursin', 'breakfast tea bag', 'bacardi', 'shishito chile', 'hillshire sausage', 'pepper ring', 'mushroom sauce', 'reposado', 'dulong', 'bagel chip', 'genmai miso', 'macaroni shell', 'chuka soba noodle', 'lowfat caesar', 'wonton noodle', 'savoiardi', 'cabrale', 'ton skin', 'pte brise', 'vanilla almond milk', 'skinless cod fillet', 'style butter', 'chicharron', 'pastina', 'fat chunky mushroom pasta sauce', 'sauce tomato', 'rice penne', 'pea eggplant', 'tomato chutney', 'sunflower', 'cherry vinegar', 'puy lentil', 'pisco', 'langoustine', 'liquid egg substitute', 'caramel yogurt', 'baby turnip', 'parsley root', 'culantro', 'val', 'pretzel', 'beef marrow', 'mandarin juice', 'ti leaf', 'broccoli romanesco', 'head', 'trout caviar', 'prune juice', 'maraschino', 'membrillo', 'brazil nut', 'sauc', 'lap cheong', 'cava', 'cherry syrup', 'genoise', 'pisco brandy', 'puff paste', 'comino', 'ricard', 'ceci bean', 'roti', 'pie crust mix', 'filo', 'semisweet chocolate chunk', 'dairy yogurt', 'lager beer', 'raspberry puree', 'framboise liqueur', 'shortbread', 'hake fillet', 'elderflower cordial', 'fat sodium tomato soup', 'salt chili powder', 'raspberry fruit spread', 'limeade', 'guanabana', 'spicy salami', 'skinless haddock', 'roast pork mix', 'queso manchego', 'wasabe', 'poundcake', 'yuzukosho', 'chocolate cookie crumb', 'sweetbread', 'broiler', 'boquerone', 'kha', 'root beer', 'mozzarella chee', 'lowfat chicken broth', 'beef rump', 'habanero powder', 'hoop cheese', 'chicken rice soup', 'hachiya', 'beau monde', 'pink salt', 'sauerkraut juice', 'skinless chicken fillet', 'mincemeat pie filling', 'hubbard squash', 'fat cheddar varieti', 'sugarcane stick', 'steak tip', 'crme', 'raspberry lambic', 'semisweet chocolate chip', 'boneless pork tenderloin']\n"
     ]
    }
   ],
   "source": [
    "print(len(unknown_ingredients))\n",
    "print(unknown_ingredients)"
   ]
  },
  {
   "cell_type": "code",
   "execution_count": 83,
   "metadata": {},
   "outputs": [],
   "source": [
    "def sent_vectorizer(sent, model):\n",
    "    sent_vec =[]\n",
    "    numw = 0\n",
    "    sent = [x for x in sent if x not in unknown_ingredients]\n",
    "    for w in sent:\n",
    "        try:\n",
    "            if numw == 0:\n",
    "                sent_vec = model[w]\n",
    "            else:\n",
    "                sent_vec = np.add(sent_vec, model[w])\n",
    "            numw+=1\n",
    "        except:\n",
    "            pass\n",
    "    return np.asarray(sent_vec) / numw"
   ]
  },
  {
   "cell_type": "code",
   "execution_count": 84,
   "metadata": {},
   "outputs": [],
   "source": [
    "X=[]\n",
    "for sentence in recipes_as_sentences_list:\n",
    "    X.append(sent_vectorizer(sentence, model))"
   ]
  },
  {
   "cell_type": "code",
   "execution_count": 86,
   "metadata": {},
   "outputs": [
    {
     "name": "stdout",
     "output_type": "stream",
     "text": [
      "[-0.26349393 -0.16761073 -0.05869535  0.7978508   0.9224189  -0.55868167\n",
      "  0.17583182  0.22203551 -0.2973937   0.6896577   0.6070237   0.02418105\n",
      "  0.85137    -0.98156637 -1.1651636   0.26636094 -0.5029144   0.2834668\n",
      "  0.59525347  0.7116483   0.5111393   1.6174906   0.19029103  0.68305105\n",
      "  2.1771398  -0.23920582 -0.6600042   0.58999014  0.3140237   0.9442403 ]\n",
      "['romaine lettuce', 'olive', 'grape tomato', 'garlic', 'pepper', 'onion', 'feta cheese']\n"
     ]
    }
   ],
   "source": [
    "\n",
    "print(X[0])\n",
    "print(recipes_as_sentences_list[0])"
   ]
  },
  {
   "cell_type": "code",
   "execution_count": 34,
   "metadata": {},
   "outputs": [
    {
     "ename": "ValueError",
     "evalue": "shapes (0,) and (30,) not aligned: 0 (dim 0) != 30 (dim 0)",
     "output_type": "error",
     "traceback": [
      "\u001b[0;31m---------------------------------------------------------------------------\u001b[0m",
      "\u001b[0;31mValueError\u001b[0m                                Traceback (most recent call last)",
      "\u001b[0;32m<ipython-input-34-81a42305a22e>\u001b[0m in \u001b[0;36m<module>\u001b[0;34m\u001b[0m\n\u001b[1;32m      2\u001b[0m \u001b[0mNUM_CLUSTERS\u001b[0m\u001b[0;34m=\u001b[0m\u001b[0;36m20\u001b[0m\u001b[0;34m\u001b[0m\u001b[0;34m\u001b[0m\u001b[0m\n\u001b[1;32m      3\u001b[0m \u001b[0mkclusterer\u001b[0m \u001b[0;34m=\u001b[0m \u001b[0mKMeansClusterer\u001b[0m\u001b[0;34m(\u001b[0m\u001b[0mNUM_CLUSTERS\u001b[0m\u001b[0;34m,\u001b[0m \u001b[0mdistance\u001b[0m\u001b[0;34m=\u001b[0m\u001b[0mnltk\u001b[0m\u001b[0;34m.\u001b[0m\u001b[0mcluster\u001b[0m\u001b[0;34m.\u001b[0m\u001b[0mutil\u001b[0m\u001b[0;34m.\u001b[0m\u001b[0mcosine_distance\u001b[0m\u001b[0;34m,\u001b[0m \u001b[0mrepeats\u001b[0m\u001b[0;34m=\u001b[0m\u001b[0;36m25\u001b[0m\u001b[0;34m,\u001b[0m \u001b[0mavoid_empty_clusters\u001b[0m\u001b[0;34m=\u001b[0m\u001b[0;32mTrue\u001b[0m\u001b[0;34m)\u001b[0m\u001b[0;34m\u001b[0m\u001b[0;34m\u001b[0m\u001b[0m\n\u001b[0;32m----> 4\u001b[0;31m \u001b[0massigned_clusters\u001b[0m \u001b[0;34m=\u001b[0m \u001b[0mkclusterer\u001b[0m\u001b[0;34m.\u001b[0m\u001b[0mcluster\u001b[0m\u001b[0;34m(\u001b[0m\u001b[0mX\u001b[0m\u001b[0;34m,\u001b[0m \u001b[0massign_clusters\u001b[0m\u001b[0;34m=\u001b[0m\u001b[0;32mTrue\u001b[0m\u001b[0;34m)\u001b[0m\u001b[0;34m\u001b[0m\u001b[0;34m\u001b[0m\u001b[0m\n\u001b[0m\u001b[1;32m      5\u001b[0m \u001b[0mprint\u001b[0m \u001b[0;34m(\u001b[0m\u001b[0massigned_clusters\u001b[0m\u001b[0;34m)\u001b[0m\u001b[0;34m\u001b[0m\u001b[0;34m\u001b[0m\u001b[0m\n\u001b[1;32m      6\u001b[0m \"\"\"\n",
      "\u001b[0;32m~/anaconda3/envs/rhofix/lib/python3.6/site-packages/nltk/cluster/util.py\u001b[0m in \u001b[0;36mcluster\u001b[0;34m(self, vectors, assign_clusters, trace)\u001b[0m\n\u001b[1;32m     60\u001b[0m \u001b[0;34m\u001b[0m\u001b[0m\n\u001b[1;32m     61\u001b[0m         \u001b[0;31m# call abstract method to cluster the vectors\u001b[0m\u001b[0;34m\u001b[0m\u001b[0;34m\u001b[0m\u001b[0;34m\u001b[0m\u001b[0m\n\u001b[0;32m---> 62\u001b[0;31m         \u001b[0mself\u001b[0m\u001b[0;34m.\u001b[0m\u001b[0mcluster_vectorspace\u001b[0m\u001b[0;34m(\u001b[0m\u001b[0mvectors\u001b[0m\u001b[0;34m,\u001b[0m \u001b[0mtrace\u001b[0m\u001b[0;34m)\u001b[0m\u001b[0;34m\u001b[0m\u001b[0;34m\u001b[0m\u001b[0m\n\u001b[0m\u001b[1;32m     63\u001b[0m \u001b[0;34m\u001b[0m\u001b[0m\n\u001b[1;32m     64\u001b[0m         \u001b[0;31m# assign the vectors to clusters\u001b[0m\u001b[0;34m\u001b[0m\u001b[0;34m\u001b[0m\u001b[0;34m\u001b[0m\u001b[0m\n",
      "\u001b[0;32m~/anaconda3/envs/rhofix/lib/python3.6/site-packages/nltk/cluster/kmeans.py\u001b[0m in \u001b[0;36mcluster_vectorspace\u001b[0;34m(self, vectors, trace)\u001b[0m\n\u001b[1;32m     92\u001b[0m             \u001b[0;32mif\u001b[0m \u001b[0;32mnot\u001b[0m \u001b[0mself\u001b[0m\u001b[0;34m.\u001b[0m\u001b[0m_means\u001b[0m \u001b[0;32mor\u001b[0m \u001b[0mtrial\u001b[0m \u001b[0;34m>\u001b[0m \u001b[0;36m1\u001b[0m\u001b[0;34m:\u001b[0m\u001b[0;34m\u001b[0m\u001b[0;34m\u001b[0m\u001b[0m\n\u001b[1;32m     93\u001b[0m                 \u001b[0mself\u001b[0m\u001b[0;34m.\u001b[0m\u001b[0m_means\u001b[0m \u001b[0;34m=\u001b[0m \u001b[0mself\u001b[0m\u001b[0;34m.\u001b[0m\u001b[0m_rng\u001b[0m\u001b[0;34m.\u001b[0m\u001b[0msample\u001b[0m\u001b[0;34m(\u001b[0m\u001b[0mlist\u001b[0m\u001b[0;34m(\u001b[0m\u001b[0mvectors\u001b[0m\u001b[0;34m)\u001b[0m\u001b[0;34m,\u001b[0m \u001b[0mself\u001b[0m\u001b[0;34m.\u001b[0m\u001b[0m_num_means\u001b[0m\u001b[0;34m)\u001b[0m\u001b[0;34m\u001b[0m\u001b[0;34m\u001b[0m\u001b[0m\n\u001b[0;32m---> 94\u001b[0;31m             \u001b[0mself\u001b[0m\u001b[0;34m.\u001b[0m\u001b[0m_cluster_vectorspace\u001b[0m\u001b[0;34m(\u001b[0m\u001b[0mvectors\u001b[0m\u001b[0;34m,\u001b[0m \u001b[0mtrace\u001b[0m\u001b[0;34m)\u001b[0m\u001b[0;34m\u001b[0m\u001b[0;34m\u001b[0m\u001b[0m\n\u001b[0m\u001b[1;32m     95\u001b[0m             \u001b[0mmeanss\u001b[0m\u001b[0;34m.\u001b[0m\u001b[0mappend\u001b[0m\u001b[0;34m(\u001b[0m\u001b[0mself\u001b[0m\u001b[0;34m.\u001b[0m\u001b[0m_means\u001b[0m\u001b[0;34m)\u001b[0m\u001b[0;34m\u001b[0m\u001b[0;34m\u001b[0m\u001b[0m\n\u001b[1;32m     96\u001b[0m \u001b[0;34m\u001b[0m\u001b[0m\n",
      "\u001b[0;32m~/anaconda3/envs/rhofix/lib/python3.6/site-packages/nltk/cluster/kmeans.py\u001b[0m in \u001b[0;36m_cluster_vectorspace\u001b[0;34m(self, vectors, trace)\u001b[0m\n\u001b[1;32m    123\u001b[0m                 \u001b[0mclusters\u001b[0m \u001b[0;34m=\u001b[0m \u001b[0;34m[\u001b[0m\u001b[0;34m[\u001b[0m\u001b[0;34m]\u001b[0m \u001b[0;32mfor\u001b[0m \u001b[0mm\u001b[0m \u001b[0;32min\u001b[0m \u001b[0mrange\u001b[0m\u001b[0;34m(\u001b[0m\u001b[0mself\u001b[0m\u001b[0;34m.\u001b[0m\u001b[0m_num_means\u001b[0m\u001b[0;34m)\u001b[0m\u001b[0;34m]\u001b[0m\u001b[0;34m\u001b[0m\u001b[0;34m\u001b[0m\u001b[0m\n\u001b[1;32m    124\u001b[0m                 \u001b[0;32mfor\u001b[0m \u001b[0mvector\u001b[0m \u001b[0;32min\u001b[0m \u001b[0mvectors\u001b[0m\u001b[0;34m:\u001b[0m\u001b[0;34m\u001b[0m\u001b[0;34m\u001b[0m\u001b[0m\n\u001b[0;32m--> 125\u001b[0;31m                     \u001b[0mindex\u001b[0m \u001b[0;34m=\u001b[0m \u001b[0mself\u001b[0m\u001b[0;34m.\u001b[0m\u001b[0mclassify_vectorspace\u001b[0m\u001b[0;34m(\u001b[0m\u001b[0mvector\u001b[0m\u001b[0;34m)\u001b[0m\u001b[0;34m\u001b[0m\u001b[0;34m\u001b[0m\u001b[0m\n\u001b[0m\u001b[1;32m    126\u001b[0m                     \u001b[0mclusters\u001b[0m\u001b[0;34m[\u001b[0m\u001b[0mindex\u001b[0m\u001b[0;34m]\u001b[0m\u001b[0;34m.\u001b[0m\u001b[0mappend\u001b[0m\u001b[0;34m(\u001b[0m\u001b[0mvector\u001b[0m\u001b[0;34m)\u001b[0m\u001b[0;34m\u001b[0m\u001b[0;34m\u001b[0m\u001b[0m\n\u001b[1;32m    127\u001b[0m \u001b[0;34m\u001b[0m\u001b[0m\n",
      "\u001b[0;32m~/anaconda3/envs/rhofix/lib/python3.6/site-packages/nltk/cluster/kmeans.py\u001b[0m in \u001b[0;36mclassify_vectorspace\u001b[0;34m(self, vector)\u001b[0m\n\u001b[1;32m    148\u001b[0m         \u001b[0;32mfor\u001b[0m \u001b[0mindex\u001b[0m \u001b[0;32min\u001b[0m \u001b[0mrange\u001b[0m\u001b[0;34m(\u001b[0m\u001b[0mlen\u001b[0m\u001b[0;34m(\u001b[0m\u001b[0mself\u001b[0m\u001b[0;34m.\u001b[0m\u001b[0m_means\u001b[0m\u001b[0;34m)\u001b[0m\u001b[0;34m)\u001b[0m\u001b[0;34m:\u001b[0m\u001b[0;34m\u001b[0m\u001b[0;34m\u001b[0m\u001b[0m\n\u001b[1;32m    149\u001b[0m             \u001b[0mmean\u001b[0m \u001b[0;34m=\u001b[0m \u001b[0mself\u001b[0m\u001b[0;34m.\u001b[0m\u001b[0m_means\u001b[0m\u001b[0;34m[\u001b[0m\u001b[0mindex\u001b[0m\u001b[0;34m]\u001b[0m\u001b[0;34m\u001b[0m\u001b[0;34m\u001b[0m\u001b[0m\n\u001b[0;32m--> 150\u001b[0;31m             \u001b[0mdist\u001b[0m \u001b[0;34m=\u001b[0m \u001b[0mself\u001b[0m\u001b[0;34m.\u001b[0m\u001b[0m_distance\u001b[0m\u001b[0;34m(\u001b[0m\u001b[0mvector\u001b[0m\u001b[0;34m,\u001b[0m \u001b[0mmean\u001b[0m\u001b[0;34m)\u001b[0m\u001b[0;34m\u001b[0m\u001b[0;34m\u001b[0m\u001b[0m\n\u001b[0m\u001b[1;32m    151\u001b[0m             \u001b[0;32mif\u001b[0m \u001b[0mbest_distance\u001b[0m \u001b[0;32mis\u001b[0m \u001b[0;32mNone\u001b[0m \u001b[0;32mor\u001b[0m \u001b[0mdist\u001b[0m \u001b[0;34m<\u001b[0m \u001b[0mbest_distance\u001b[0m\u001b[0;34m:\u001b[0m\u001b[0;34m\u001b[0m\u001b[0;34m\u001b[0m\u001b[0m\n\u001b[1;32m    152\u001b[0m                 \u001b[0mbest_index\u001b[0m\u001b[0;34m,\u001b[0m \u001b[0mbest_distance\u001b[0m \u001b[0;34m=\u001b[0m \u001b[0mindex\u001b[0m\u001b[0;34m,\u001b[0m \u001b[0mdist\u001b[0m\u001b[0;34m\u001b[0m\u001b[0;34m\u001b[0m\u001b[0m\n",
      "\u001b[0;32m~/anaconda3/envs/rhofix/lib/python3.6/site-packages/nltk/cluster/util.py\u001b[0m in \u001b[0;36mcosine_distance\u001b[0;34m(u, v)\u001b[0m\n\u001b[1;32m    131\u001b[0m     \u001b[0mequal\u001b[0m \u001b[0mto\u001b[0m \u001b[0;36m1\u001b[0m \u001b[0;34m-\u001b[0m \u001b[0;34m(\u001b[0m\u001b[0mu\u001b[0m\u001b[0;34m.\u001b[0m\u001b[0mv\u001b[0m \u001b[0;34m/\u001b[0m \u001b[0;34m|\u001b[0m\u001b[0mu\u001b[0m\u001b[0;34m|\u001b[0m\u001b[0;34m|\u001b[0m\u001b[0mv\u001b[0m\u001b[0;34m|\u001b[0m\u001b[0;34m)\u001b[0m\u001b[0;34m.\u001b[0m\u001b[0;34m\u001b[0m\u001b[0;34m\u001b[0m\u001b[0m\n\u001b[1;32m    132\u001b[0m     \"\"\"\n\u001b[0;32m--> 133\u001b[0;31m     \u001b[0;32mreturn\u001b[0m \u001b[0;36m1\u001b[0m \u001b[0;34m-\u001b[0m \u001b[0;34m(\u001b[0m\u001b[0mnumpy\u001b[0m\u001b[0;34m.\u001b[0m\u001b[0mdot\u001b[0m\u001b[0;34m(\u001b[0m\u001b[0mu\u001b[0m\u001b[0;34m,\u001b[0m \u001b[0mv\u001b[0m\u001b[0;34m)\u001b[0m \u001b[0;34m/\u001b[0m \u001b[0;34m(\u001b[0m\u001b[0msqrt\u001b[0m\u001b[0;34m(\u001b[0m\u001b[0mnumpy\u001b[0m\u001b[0;34m.\u001b[0m\u001b[0mdot\u001b[0m\u001b[0;34m(\u001b[0m\u001b[0mu\u001b[0m\u001b[0;34m,\u001b[0m \u001b[0mu\u001b[0m\u001b[0;34m)\u001b[0m\u001b[0;34m)\u001b[0m \u001b[0;34m*\u001b[0m \u001b[0msqrt\u001b[0m\u001b[0;34m(\u001b[0m\u001b[0mnumpy\u001b[0m\u001b[0;34m.\u001b[0m\u001b[0mdot\u001b[0m\u001b[0;34m(\u001b[0m\u001b[0mv\u001b[0m\u001b[0;34m,\u001b[0m \u001b[0mv\u001b[0m\u001b[0;34m)\u001b[0m\u001b[0;34m)\u001b[0m\u001b[0;34m)\u001b[0m\u001b[0;34m)\u001b[0m\u001b[0;34m\u001b[0m\u001b[0;34m\u001b[0m\u001b[0m\n\u001b[0m\u001b[1;32m    134\u001b[0m \u001b[0;34m\u001b[0m\u001b[0m\n\u001b[1;32m    135\u001b[0m \u001b[0;34m\u001b[0m\u001b[0m\n",
      "\u001b[0;31mValueError\u001b[0m: shapes (0,) and (30,) not aligned: 0 (dim 0) != 30 (dim 0)"
     ]
    }
   ],
   "source": [
    "from nltk.cluster import KMeansClusterer\n",
    "NUM_CLUSTERS=20\n",
    "kclusterer = KMeansClusterer(NUM_CLUSTERS, distance=nltk.cluster.util.cosine_distance, repeats=25, avoid_empty_clusters=True)\n",
    "assigned_clusters = kclusterer.cluster(X, assign_clusters=True)\n",
    "print (assigned_clusters)\n",
    "\"\"\"\n",
    "for index, sentence in enumerate(sentences):\n",
    "    print (str(assigned_clusters[index]) + \":\" + str(sentence))\n",
    " \n",
    "kmeans = cluster.KMeans(n_clusters=NUM_CLUSTERS)\n",
    "kmeans.fit(X)\n",
    "  \n",
    "labels = kmeans.labels_\n",
    "centroids = kmeans.cluster_centers_\n",
    "  \n",
    "print (\"Cluster id labels for inputted data\")\n",
    "print (labels)\n",
    "print (\"Centroids data\")\n",
    "print (centroids)\n",
    "  \n",
    "print (\"Score (Opposite of the value of X on the K-means objective which is Sum of distances of samples to their closest cluster center):\")\n",
    "print (kmeans.score(X))\n",
    "  \n",
    "silhouette_score = metrics.silhouette_score(X, labels, metric='euclidean')\n",
    "  \n",
    "print (\"Silhouette_score: \")\n",
    "print (silhouette_score)\n",
    "\"\"\""
   ]
  },
  {
   "cell_type": "code",
   "execution_count": 41,
   "metadata": {},
   "outputs": [
    {
     "ename": "KeyboardInterrupt",
     "evalue": "",
     "output_type": "error",
     "traceback": [
      "\u001b[0;31m---------------------------------------------------------------------------\u001b[0m",
      "\u001b[0;31mKeyboardInterrupt\u001b[0m                         Traceback (most recent call last)",
      "\u001b[0;32m<ipython-input-41-9707f760cd8c>\u001b[0m in \u001b[0;36m<module>\u001b[0;34m\u001b[0m\n\u001b[1;32m     41\u001b[0m \u001b[0mNUM_CLUSTERS\u001b[0m\u001b[0;34m=\u001b[0m\u001b[0;36m4\u001b[0m\u001b[0;34m\u001b[0m\u001b[0;34m\u001b[0m\u001b[0m\n\u001b[1;32m     42\u001b[0m \u001b[0mkclusterer\u001b[0m \u001b[0;34m=\u001b[0m \u001b[0mKMeansClusterer\u001b[0m\u001b[0;34m(\u001b[0m\u001b[0mNUM_CLUSTERS\u001b[0m\u001b[0;34m,\u001b[0m \u001b[0mdistance\u001b[0m\u001b[0;34m=\u001b[0m\u001b[0mnltk\u001b[0m\u001b[0;34m.\u001b[0m\u001b[0mcluster\u001b[0m\u001b[0;34m.\u001b[0m\u001b[0mutil\u001b[0m\u001b[0;34m.\u001b[0m\u001b[0mcosine_distance\u001b[0m\u001b[0;34m,\u001b[0m  \u001b[0mavoid_empty_clusters\u001b[0m\u001b[0;34m=\u001b[0m\u001b[0;32mTrue\u001b[0m\u001b[0;34m,\u001b[0m \u001b[0mrepeats\u001b[0m\u001b[0;34m=\u001b[0m\u001b[0;36m25\u001b[0m\u001b[0;34m)\u001b[0m\u001b[0;34m\u001b[0m\u001b[0;34m\u001b[0m\u001b[0m\n\u001b[0;32m---> 43\u001b[0;31m \u001b[0massigned_clusters\u001b[0m \u001b[0;34m=\u001b[0m \u001b[0mkclusterer\u001b[0m\u001b[0;34m.\u001b[0m\u001b[0mcluster\u001b[0m\u001b[0;34m(\u001b[0m\u001b[0mX\u001b[0m\u001b[0;34m,\u001b[0m \u001b[0massign_clusters\u001b[0m\u001b[0;34m=\u001b[0m\u001b[0;32mTrue\u001b[0m\u001b[0;34m)\u001b[0m\u001b[0;34m\u001b[0m\u001b[0;34m\u001b[0m\u001b[0m\n\u001b[0m\u001b[1;32m     44\u001b[0m \u001b[0mprint\u001b[0m \u001b[0;34m(\u001b[0m\u001b[0massigned_clusters\u001b[0m\u001b[0;34m)\u001b[0m\u001b[0;34m\u001b[0m\u001b[0;34m\u001b[0m\u001b[0m\n\u001b[1;32m     45\u001b[0m \u001b[0;34m\u001b[0m\u001b[0m\n",
      "\u001b[0;32m~/anaconda3/envs/rhofix/lib/python3.6/site-packages/nltk/cluster/util.py\u001b[0m in \u001b[0;36mcluster\u001b[0;34m(self, vectors, assign_clusters, trace)\u001b[0m\n\u001b[1;32m     60\u001b[0m \u001b[0;34m\u001b[0m\u001b[0m\n\u001b[1;32m     61\u001b[0m         \u001b[0;31m# call abstract method to cluster the vectors\u001b[0m\u001b[0;34m\u001b[0m\u001b[0;34m\u001b[0m\u001b[0;34m\u001b[0m\u001b[0m\n\u001b[0;32m---> 62\u001b[0;31m         \u001b[0mself\u001b[0m\u001b[0;34m.\u001b[0m\u001b[0mcluster_vectorspace\u001b[0m\u001b[0;34m(\u001b[0m\u001b[0mvectors\u001b[0m\u001b[0;34m,\u001b[0m \u001b[0mtrace\u001b[0m\u001b[0;34m)\u001b[0m\u001b[0;34m\u001b[0m\u001b[0;34m\u001b[0m\u001b[0m\n\u001b[0m\u001b[1;32m     63\u001b[0m \u001b[0;34m\u001b[0m\u001b[0m\n\u001b[1;32m     64\u001b[0m         \u001b[0;31m# assign the vectors to clusters\u001b[0m\u001b[0;34m\u001b[0m\u001b[0;34m\u001b[0m\u001b[0;34m\u001b[0m\u001b[0m\n",
      "\u001b[0;32m~/anaconda3/envs/rhofix/lib/python3.6/site-packages/nltk/cluster/kmeans.py\u001b[0m in \u001b[0;36mcluster_vectorspace\u001b[0;34m(self, vectors, trace)\u001b[0m\n\u001b[1;32m     92\u001b[0m             \u001b[0;32mif\u001b[0m \u001b[0;32mnot\u001b[0m \u001b[0mself\u001b[0m\u001b[0;34m.\u001b[0m\u001b[0m_means\u001b[0m \u001b[0;32mor\u001b[0m \u001b[0mtrial\u001b[0m \u001b[0;34m>\u001b[0m \u001b[0;36m1\u001b[0m\u001b[0;34m:\u001b[0m\u001b[0;34m\u001b[0m\u001b[0;34m\u001b[0m\u001b[0m\n\u001b[1;32m     93\u001b[0m                 \u001b[0mself\u001b[0m\u001b[0;34m.\u001b[0m\u001b[0m_means\u001b[0m \u001b[0;34m=\u001b[0m \u001b[0mself\u001b[0m\u001b[0;34m.\u001b[0m\u001b[0m_rng\u001b[0m\u001b[0;34m.\u001b[0m\u001b[0msample\u001b[0m\u001b[0;34m(\u001b[0m\u001b[0mlist\u001b[0m\u001b[0;34m(\u001b[0m\u001b[0mvectors\u001b[0m\u001b[0;34m)\u001b[0m\u001b[0;34m,\u001b[0m \u001b[0mself\u001b[0m\u001b[0;34m.\u001b[0m\u001b[0m_num_means\u001b[0m\u001b[0;34m)\u001b[0m\u001b[0;34m\u001b[0m\u001b[0;34m\u001b[0m\u001b[0m\n\u001b[0;32m---> 94\u001b[0;31m             \u001b[0mself\u001b[0m\u001b[0;34m.\u001b[0m\u001b[0m_cluster_vectorspace\u001b[0m\u001b[0;34m(\u001b[0m\u001b[0mvectors\u001b[0m\u001b[0;34m,\u001b[0m \u001b[0mtrace\u001b[0m\u001b[0;34m)\u001b[0m\u001b[0;34m\u001b[0m\u001b[0;34m\u001b[0m\u001b[0m\n\u001b[0m\u001b[1;32m     95\u001b[0m             \u001b[0mmeanss\u001b[0m\u001b[0;34m.\u001b[0m\u001b[0mappend\u001b[0m\u001b[0;34m(\u001b[0m\u001b[0mself\u001b[0m\u001b[0;34m.\u001b[0m\u001b[0m_means\u001b[0m\u001b[0;34m)\u001b[0m\u001b[0;34m\u001b[0m\u001b[0;34m\u001b[0m\u001b[0m\n\u001b[1;32m     96\u001b[0m \u001b[0;34m\u001b[0m\u001b[0m\n",
      "\u001b[0;32m~/anaconda3/envs/rhofix/lib/python3.6/site-packages/nltk/cluster/kmeans.py\u001b[0m in \u001b[0;36m_cluster_vectorspace\u001b[0;34m(self, vectors, trace)\u001b[0m\n\u001b[1;32m    123\u001b[0m                 \u001b[0mclusters\u001b[0m \u001b[0;34m=\u001b[0m \u001b[0;34m[\u001b[0m\u001b[0;34m[\u001b[0m\u001b[0;34m]\u001b[0m \u001b[0;32mfor\u001b[0m \u001b[0mm\u001b[0m \u001b[0;32min\u001b[0m \u001b[0mrange\u001b[0m\u001b[0;34m(\u001b[0m\u001b[0mself\u001b[0m\u001b[0;34m.\u001b[0m\u001b[0m_num_means\u001b[0m\u001b[0;34m)\u001b[0m\u001b[0;34m]\u001b[0m\u001b[0;34m\u001b[0m\u001b[0;34m\u001b[0m\u001b[0m\n\u001b[1;32m    124\u001b[0m                 \u001b[0;32mfor\u001b[0m \u001b[0mvector\u001b[0m \u001b[0;32min\u001b[0m \u001b[0mvectors\u001b[0m\u001b[0;34m:\u001b[0m\u001b[0;34m\u001b[0m\u001b[0;34m\u001b[0m\u001b[0m\n\u001b[0;32m--> 125\u001b[0;31m                     \u001b[0mindex\u001b[0m \u001b[0;34m=\u001b[0m \u001b[0mself\u001b[0m\u001b[0;34m.\u001b[0m\u001b[0mclassify_vectorspace\u001b[0m\u001b[0;34m(\u001b[0m\u001b[0mvector\u001b[0m\u001b[0;34m)\u001b[0m\u001b[0;34m\u001b[0m\u001b[0;34m\u001b[0m\u001b[0m\n\u001b[0m\u001b[1;32m    126\u001b[0m                     \u001b[0mclusters\u001b[0m\u001b[0;34m[\u001b[0m\u001b[0mindex\u001b[0m\u001b[0;34m]\u001b[0m\u001b[0;34m.\u001b[0m\u001b[0mappend\u001b[0m\u001b[0;34m(\u001b[0m\u001b[0mvector\u001b[0m\u001b[0;34m)\u001b[0m\u001b[0;34m\u001b[0m\u001b[0;34m\u001b[0m\u001b[0m\n\u001b[1;32m    127\u001b[0m \u001b[0;34m\u001b[0m\u001b[0m\n",
      "\u001b[0;32m~/anaconda3/envs/rhofix/lib/python3.6/site-packages/nltk/cluster/kmeans.py\u001b[0m in \u001b[0;36mclassify_vectorspace\u001b[0;34m(self, vector)\u001b[0m\n\u001b[1;32m    148\u001b[0m         \u001b[0;32mfor\u001b[0m \u001b[0mindex\u001b[0m \u001b[0;32min\u001b[0m \u001b[0mrange\u001b[0m\u001b[0;34m(\u001b[0m\u001b[0mlen\u001b[0m\u001b[0;34m(\u001b[0m\u001b[0mself\u001b[0m\u001b[0;34m.\u001b[0m\u001b[0m_means\u001b[0m\u001b[0;34m)\u001b[0m\u001b[0;34m)\u001b[0m\u001b[0;34m:\u001b[0m\u001b[0;34m\u001b[0m\u001b[0;34m\u001b[0m\u001b[0m\n\u001b[1;32m    149\u001b[0m             \u001b[0mmean\u001b[0m \u001b[0;34m=\u001b[0m \u001b[0mself\u001b[0m\u001b[0;34m.\u001b[0m\u001b[0m_means\u001b[0m\u001b[0;34m[\u001b[0m\u001b[0mindex\u001b[0m\u001b[0;34m]\u001b[0m\u001b[0;34m\u001b[0m\u001b[0;34m\u001b[0m\u001b[0m\n\u001b[0;32m--> 150\u001b[0;31m             \u001b[0mdist\u001b[0m \u001b[0;34m=\u001b[0m \u001b[0mself\u001b[0m\u001b[0;34m.\u001b[0m\u001b[0m_distance\u001b[0m\u001b[0;34m(\u001b[0m\u001b[0mvector\u001b[0m\u001b[0;34m,\u001b[0m \u001b[0mmean\u001b[0m\u001b[0;34m)\u001b[0m\u001b[0;34m\u001b[0m\u001b[0;34m\u001b[0m\u001b[0m\n\u001b[0m\u001b[1;32m    151\u001b[0m             \u001b[0;32mif\u001b[0m \u001b[0mbest_distance\u001b[0m \u001b[0;32mis\u001b[0m \u001b[0;32mNone\u001b[0m \u001b[0;32mor\u001b[0m \u001b[0mdist\u001b[0m \u001b[0;34m<\u001b[0m \u001b[0mbest_distance\u001b[0m\u001b[0;34m:\u001b[0m\u001b[0;34m\u001b[0m\u001b[0;34m\u001b[0m\u001b[0m\n\u001b[1;32m    152\u001b[0m                 \u001b[0mbest_index\u001b[0m\u001b[0;34m,\u001b[0m \u001b[0mbest_distance\u001b[0m \u001b[0;34m=\u001b[0m \u001b[0mindex\u001b[0m\u001b[0;34m,\u001b[0m \u001b[0mdist\u001b[0m\u001b[0;34m\u001b[0m\u001b[0;34m\u001b[0m\u001b[0m\n",
      "\u001b[0;32m~/anaconda3/envs/rhofix/lib/python3.6/site-packages/nltk/cluster/util.py\u001b[0m in \u001b[0;36mcosine_distance\u001b[0;34m(u, v)\u001b[0m\n\u001b[1;32m    131\u001b[0m     \u001b[0mequal\u001b[0m \u001b[0mto\u001b[0m \u001b[0;36m1\u001b[0m \u001b[0;34m-\u001b[0m \u001b[0;34m(\u001b[0m\u001b[0mu\u001b[0m\u001b[0;34m.\u001b[0m\u001b[0mv\u001b[0m \u001b[0;34m/\u001b[0m \u001b[0;34m|\u001b[0m\u001b[0mu\u001b[0m\u001b[0;34m|\u001b[0m\u001b[0;34m|\u001b[0m\u001b[0mv\u001b[0m\u001b[0;34m|\u001b[0m\u001b[0;34m)\u001b[0m\u001b[0;34m.\u001b[0m\u001b[0;34m\u001b[0m\u001b[0;34m\u001b[0m\u001b[0m\n\u001b[1;32m    132\u001b[0m     \"\"\"\n\u001b[0;32m--> 133\u001b[0;31m     \u001b[0;32mreturn\u001b[0m \u001b[0;36m1\u001b[0m \u001b[0;34m-\u001b[0m \u001b[0;34m(\u001b[0m\u001b[0mnumpy\u001b[0m\u001b[0;34m.\u001b[0m\u001b[0mdot\u001b[0m\u001b[0;34m(\u001b[0m\u001b[0mu\u001b[0m\u001b[0;34m,\u001b[0m \u001b[0mv\u001b[0m\u001b[0;34m)\u001b[0m \u001b[0;34m/\u001b[0m \u001b[0;34m(\u001b[0m\u001b[0msqrt\u001b[0m\u001b[0;34m(\u001b[0m\u001b[0mnumpy\u001b[0m\u001b[0;34m.\u001b[0m\u001b[0mdot\u001b[0m\u001b[0;34m(\u001b[0m\u001b[0mu\u001b[0m\u001b[0;34m,\u001b[0m \u001b[0mu\u001b[0m\u001b[0;34m)\u001b[0m\u001b[0;34m)\u001b[0m \u001b[0;34m*\u001b[0m \u001b[0msqrt\u001b[0m\u001b[0;34m(\u001b[0m\u001b[0mnumpy\u001b[0m\u001b[0;34m.\u001b[0m\u001b[0mdot\u001b[0m\u001b[0;34m(\u001b[0m\u001b[0mv\u001b[0m\u001b[0;34m,\u001b[0m \u001b[0mv\u001b[0m\u001b[0;34m)\u001b[0m\u001b[0;34m)\u001b[0m\u001b[0;34m)\u001b[0m\u001b[0;34m)\u001b[0m\u001b[0;34m\u001b[0m\u001b[0;34m\u001b[0m\u001b[0m\n\u001b[0m\u001b[1;32m    134\u001b[0m \u001b[0;34m\u001b[0m\u001b[0m\n\u001b[1;32m    135\u001b[0m \u001b[0;34m\u001b[0m\u001b[0m\n",
      "\u001b[0;31mKeyboardInterrupt\u001b[0m: "
     ]
    }
   ],
   "source": [
    "from sklearn import cluster\n",
    "from sklearn import metrics\n",
    "\n",
    "\n",
    "num_features = 30    # Word vector dimensionality                      \n",
    "min_word_count = 1    # 50% of the corpus                    \n",
    "num_workers = 4       # Number of CPUs\n",
    "context = 10          # Context window size;                                                                                \n",
    "downsampling = 1e-3   # threshold for configuring which \n",
    "                    # higher-frequency words are randomly downsampled\n",
    "\n",
    "# Initialize and train the model\n",
    "\"\"\"\n",
    "model = word2vec.Word2Vec(recipes_as_sentences_list, workers=num_workers, \\\n",
    "            size=num_features, min_count = min_word_count, \\\n",
    "            window = context, sample = downsampling)\n",
    "\"\"\"\n",
    "# If you don't plan to train the model any further, calling \n",
    "# init_sims will make the model much more memory-efficient.\n",
    "#model.init_sims(replace=True)\n",
    "model1 = word2vec.Word2Vec(recipes_as_sentences_list, size=num_features, min_count=1)\n",
    " \n",
    "def sent_vectorizer(sent, model):\n",
    "    sent_vec =[]\n",
    "    numw = 0\n",
    "    sent = [x for x in sent if x not in unknown_ingredients]\n",
    "    for w in sent:\n",
    "        try:\n",
    "            if numw == 0:\n",
    "                sent_vec = model[w]\n",
    "            else:\n",
    "                sent_vec = np.add(sent_vec, model[w])\n",
    "            numw+=1\n",
    "        except:\n",
    "            pass\n",
    "    return np.asarray(sent_vec) / numw\n",
    "  \n",
    "X=[]\n",
    "for sentence in sentences:\n",
    "    X.append(sent_vectorizer(sentence, model1))   \n",
    "NUM_CLUSTERS=4\n",
    "kclusterer = KMeansClusterer(NUM_CLUSTERS, distance=nltk.cluster.util.cosine_distance,  avoid_empty_clusters=True, repeats=25)\n",
    "assigned_clusters = kclusterer.cluster(X, assign_clusters=True)\n",
    "print (assigned_clusters)\n",
    "  \n",
    "  "
   ]
  },
  {
   "cell_type": "code",
   "execution_count": null,
   "metadata": {},
   "outputs": [],
   "source": [
    "for index, sentence in enumerate(sentences):    \n",
    "    print (str(assigned_clusters[index]) + \":\" + str(sentence))"
   ]
  },
  {
   "cell_type": "markdown",
   "metadata": {},
   "source": [
    "from gensim.models import Word2Vec\n",
    "sentences = [['this', 'is', 'the', 'one','good', 'machine', 'learning', 'book'],\n",
    "            ['this', 'is',  'another', 'book'],\n",
    "            ['one', 'more', 'book'],\n",
    "            ['weather', 'rain', 'snow'],\n",
    "            ['yesterday', 'weather', 'snow'],\n",
    "            ['forecast', 'tomorrow', 'rain', 'snow'],\n",
    "            ['this', 'is', 'the', 'new', 'post'],\n",
    "            ['this', 'is', 'about', 'more', 'machine', 'learning', 'post'],  \n",
    "            ['and', 'this', 'is', 'the', 'one', 'last', 'post', 'book']]\n",
    "  \n",
    "\n",
    "model = Word2Vec(sentences, min_count=1)\n",
    " \n",
    "  \n",
    "def sent_vectorizer(sent, model):\n",
    "    sent_vec =[]\n",
    "    numw = 0\n",
    "    for w in sent:\n",
    "        try:\n",
    "            if numw == 0:\n",
    "                sent_vec = model[w]\n",
    "            else:\n",
    "                sent_vec = np.add(sent_vec, model[w])\n",
    "            numw+=1\n",
    "        except:\n",
    "            pass\n",
    "    return np.asarray(sent_vec) / numw\n",
    "  \n",
    "  \n",
    "X1=[]\n",
    "for sentence in sentences:\n",
    "    X1.append(sent_vectorizer(sentence, model))\n",
    "\n",
    "# note with some version you would need use this (without wv) \n",
    "NUM_CLUSTERS=5\n",
    "kclusterer = KMeansClusterer(NUM_CLUSTERS, distance=nltk.cluster.util.cosine_distance, repeats=25)\n",
    "assigned_clusters = kclusterer.cluster(X1, assign_clusters=True)"
   ]
  },
  {
   "cell_type": "code",
   "execution_count": null,
   "metadata": {},
   "outputs": [],
   "source": [
    "for index, sentence in enumerate(sentences):    \n",
    "    print (str(assigned_clusters[index]) + \":\" + str(sentence))"
   ]
  }
 ],
 "metadata": {
  "kernelspec": {
   "display_name": "Python 3",
   "language": "python",
   "name": "python3"
  },
  "language_info": {
   "codemirror_mode": {
    "name": "ipython",
    "version": 3
   },
   "file_extension": ".py",
   "mimetype": "text/x-python",
   "name": "python",
   "nbconvert_exporter": "python",
   "pygments_lexer": "ipython3",
   "version": "3.6.9"
  }
 },
 "nbformat": 4,
 "nbformat_minor": 2
}
